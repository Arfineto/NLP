{
 "cells": [
  {
   "cell_type": "markdown",
   "metadata": {},
   "source": [
    "# Functions"
   ]
  },
  {
   "cell_type": "code",
   "execution_count": 1,
   "metadata": {},
   "outputs": [
    {
     "name": "stderr",
     "output_type": "stream",
     "text": [
      "Using TensorFlow backend.\n"
     ]
    },
    {
     "data": {
      "text/plain": [
       "['/job:localhost/replica:0/task:0/device:GPU:0']"
      ]
     },
     "execution_count": 1,
     "metadata": {},
     "output_type": "execute_result"
    }
   ],
   "source": [
    "from keras import backend as K\n",
    "K.tensorflow_backend._get_available_gpus()"
   ]
  },
  {
   "cell_type": "code",
   "execution_count": 1,
   "metadata": {},
   "outputs": [
    {
     "name": "stdout",
     "output_type": "stream",
     "text": [
      "[nltk_data] Downloading package stopwords to /home/robin/nltk_data...\n",
      "[nltk_data]   Package stopwords is already up-to-date!\n"
     ]
    },
    {
     "data": {
      "text/plain": [
       "True"
      ]
     },
     "execution_count": 1,
     "metadata": {},
     "output_type": "execute_result"
    }
   ],
   "source": [
    "#!/usr/bin/env python3\n",
    "# -*- coding: utf-8 -*-\n",
    "\"\"\"\n",
    "Created on Wed Mar 28 13:00:48 2018\n",
    "\n",
    "@author: rniel\n",
    "\"\"\"\n",
    "dataset_path = \"datasets/polarization/\"\n",
    "\n",
    "def open_uci(x_=[],y_=[],choice=[\"movie\",\"amazon\",\"yelp\"]):\n",
    "    import numpy as np\n",
    "    \n",
    "    if (\"movie\" in choice):\n",
    "        file  = open(dataset_path+\"imdb_labelled.txt\", \"rt\")\n",
    "        content = file.read()\n",
    "        contents=[]\n",
    "        contents=content.split(\"\\n\")\n",
    "        del contents[-1]\n",
    "        for c in contents:\n",
    "            temp=c.split(\"\\t\")\n",
    "            x_.append(temp[0])\n",
    "            y_.append(int(temp[1]))\n",
    "\n",
    "    if (\"amazon\" in choice):\n",
    "        file  = open(dataset_path+\"amazon_cells_labelled.txt\", \"rt\")\n",
    "        content = file.read()\n",
    "        contents=[]\n",
    "        contents=content.split(\"\\n\")\n",
    "        del contents[-1]\n",
    "\n",
    "        for c in contents:\n",
    "            temp=c.split(\"\\t\")\n",
    "            x_.append(temp[0])\n",
    "            y_.append(int(temp[1]))\n",
    "\n",
    "    if (\"yelp\" in choice):\n",
    "        file  = open(dataset_path+\"yelp_labelled.txt\", \"rt\")\n",
    "        content = file.read()\n",
    "        contents=[]\n",
    "        contents=content.split(\"\\n\")\n",
    "        del contents[-1]\n",
    "\n",
    "\n",
    "        for c in contents:\n",
    "            temp=c.split(\"\\t\")\n",
    "            x_.append(temp[0])\n",
    "            y_.append(int(temp[1]))\n",
    "    return x_,y_\n",
    "\n",
    "def open_book(x_=[],y_=[]):\n",
    "    file  = open(dataset_path+\"book.txt\", \"rt\")\n",
    "    \n",
    "    nb_duplicate = 0\n",
    "    \n",
    "    content = file.read()\n",
    "    contents=[]\n",
    "    contents=content.split(\"\\n\")\n",
    "    del contents[-1]\n",
    "    del contents[-1]\n",
    "    \n",
    "    for c in contents:\n",
    "        temp=c.split(\"\\t\")\n",
    "        if(temp[1] in x_):\n",
    "            nb_duplicate+=1\n",
    "        else : \n",
    "            x_.append(temp[1])\n",
    "            y_.append(int(temp[0]))  \n",
    "    return x_,y_\n",
    "\n",
    "def open_movie(x_=[],y_=[]):\n",
    "    file  = open(dataset_path+\"rt-polarity-neg.txt\", \"rt\",encoding = \"ISO-8859-1\")\n",
    "\n",
    "    content = file.read()\n",
    "    contents=[]\n",
    "    contents=content.split(\"\\n\")\n",
    "    del contents[-1]\n",
    "    del contents[-1]\n",
    "\n",
    "    for i in range(len(contents)):\n",
    "        x_.append(contents[i])\n",
    "        y_.append(0)\n",
    "\n",
    "    file  = open(dataset_path+\"rt-polarity-pos.txt\", \"rt\",encoding = \"ISO-8859-1\")\n",
    "    content = file.read()\n",
    "    contents=[]\n",
    "    contents=content.split(\"\\n\")\n",
    "    del contents[-1]\n",
    "    del contents[-1]\n",
    "\n",
    "    for i in range(len(contents)):\n",
    "        x_.append(contents[i])\n",
    "        y_.append(1)    \n",
    "    return x_,y_\n",
    "\n",
    "def pretreatment(sentences):\n",
    "    # This function take a list of sentences and treat them to remove all punctuation mark and higher case\n",
    "    to_delete = [\",\",\".\",\"-\",\"!\",\"?\",\":\",\"*\",\")\",\"(\",\"'\",'\"',\"\\n\",\"0\",\"1\",\"2\",\"3\",\"4\",\"5\",\"6\",\"7\",\"8\",\"9\"]\n",
    "\n",
    "    for i in range(len(sentences)):\n",
    "        for t in to_delete:\n",
    "            sentences[i] = sentences[i].replace(t,\" \")\n",
    "\n",
    "    ret_sentences = []\n",
    "    for s in sentences:\n",
    "        ret_sentences.append(s.split(\" \"))\n",
    "\n",
    "    for i in range(len(sentences)):\n",
    "        ret_sentences[i]=[w for w in ret_sentences[i] if w!=\"\"]\n",
    "\n",
    "    for i in range(len(ret_sentences)):\n",
    "        for j in range(len(ret_sentences[i])) :\n",
    "            ret_sentences[i][j]=ret_sentences[i][j].lower()\n",
    "    return ret_sentences\n",
    "    \n",
    "def vectorization(sentences,vectors,word_length=300,max_len=50,adaptable_len=False):\n",
    "    \"\"\" This function transform an array of list of words (the splitted sentences) into a array of list of vectors \n",
    "            representing the words thanks to an already trained word2Vec model\n",
    "            \n",
    "        Keyword arguments:\n",
    "        sentences -- The different sentences you want to vectorize\n",
    "        word2vec_model -- An already trained gensim Word2Vec model\n",
    "        word_length -- The number of dimension of the vectors representing the words (default 300) \n",
    "        max_len -- The maximum length of a sentence (default 50) \n",
    "        adaptable_len -- A boolean allowing to adapt the maximum length to the longest sentence in your dataset\n",
    "    \"\"\"\n",
    "    sentences_v=[]\n",
    "    unusued_word=[]\n",
    "    \n",
    "    import nltk\n",
    "    from nltk.corpus import stopwords\n",
    "    import numpy as np\n",
    "    sp_words = set(stopwords.words('english'))    \n",
    "    \n",
    "    for s in sentences:\n",
    "        temp=[]\n",
    "        for w in s :\n",
    "            if(w not in sp_words):\n",
    "                try :\n",
    "                    temp.append(np.float32(vectors[w]))\n",
    "                except : \n",
    "                    unusued_word.append(w)\n",
    "        sentences_v.append(temp)\n",
    "        \n",
    "    if (adaptable_len == True):\n",
    "        for s in sentences_v:\n",
    "            if(len(s)>max_len):\n",
    "                max_len=len(s)\n",
    "                \n",
    "    for s in sentences_v:\n",
    "        sentence_length = len(s)\n",
    "        if(sentence_length<max_len):    \n",
    "            for j in range(max_len-sentence_length):\n",
    "                s.append([0]*word_length)\n",
    "    return sentences_v,max_len\n",
    "\n",
    "\n",
    "from gensim.models import KeyedVectors\n",
    "import nltk\n",
    "from nltk.corpus import stopwords\n",
    "import numpy as np\n",
    "\n",
    "def load_google_word2vec(vocabulary_size = 300000, path = 'lib/GoogleNews-vectors-negative300.bin'):\n",
    "    # load the google word2vec model\n",
    "    model = KeyedVectors.load_word2vec_format(path,binary = True,limit=vocabulary_size)  \n",
    "    return model\n",
    "\n",
    "def protocol_test(config,model,length_sentences,x_test=[],y_test=[]):\n",
    "    import numpy as np\n",
    "    from keras.utils import to_categorical\n",
    "    \n",
    "    names = [\"amazon\",\"yelp\",\"movies\"]\n",
    "    mean = []\n",
    "    \n",
    "    for n in names :\n",
    "        x, y = open_uci([],[],choice = n)\n",
    "        y =to_categorical(y)\n",
    "        sentences_v,max_len = vectorization(pretreatment(x),model,word_length=300,max_len=length_sentences,adaptable_len=True)\n",
    "        score = config.evaluate(np.array(sentences_v),y)\n",
    "        mean.append(score[1])\n",
    "        print(\"Accuracy and loss for the \"+str(n)+\" dataset : \"+str(score[-1])+\"\\n\")\n",
    "    \n",
    "    print(\"Mean for the 3 datasets = \"+str(np.mean(mean))+\"\\n\")\n",
    "    \n",
    "    if (len(x_test)!=0 and len(y_test)!=0):\n",
    "        print(\"Evaluation on the test set : \"+str(config.evaluate(x_test,y_test)))\n",
    "        \n",
    "import nltk\n",
    "nltk.download('stopwords')"
   ]
  },
  {
   "cell_type": "code",
   "execution_count": 2,
   "metadata": {},
   "outputs": [],
   "source": [
    "def treatment_negation_sentences(sentences):\n",
    "    ret_sentences = []\n",
    "    punctuation = [\",\",\".\",\"!\",\"?\",\":\"]\n",
    "\n",
    "    for s in sentences:\n",
    "        for p in punctuation :\n",
    "            s = s.replace(p,\" \"+p)\n",
    "        ret_sentences.append(s.split(\" \"))\n",
    "        \n",
    "    for s in ret_sentences:\n",
    "        for i in range(len(s)):\n",
    "            if (s[i] == 'not'):\n",
    "                j = i +1\n",
    "                if (j < len(s)):\n",
    "                    while (j< len(s) or (not(s[j] in punctuation) and s[j]!= \"\")):\n",
    "                        s[j] = \"not\"+s[j]\n",
    "                        j+=1\n",
    "                        if (j>=len(s)):\n",
    "                            break\n",
    "        for i in range(len(ret_sentences)):\n",
    "            ret_sentences[i] = \" \".join(ret_sentences[i])\n",
    "\n",
    "    return ret_sentences\n",
    "\n",
    "def treatment_negation(sentence):\n",
    "    \n",
    "    punctuation = [\",\",\".\",\"!\",\"?\",\":\"]\n",
    "    sp_words = set(stopwords.words('english'))    \n",
    "\n",
    "    for p in punctuation :\n",
    "        sentence = sentence.replace(p,\" \"+p)\n",
    "    \n",
    "    sentence = sentence.split(\" \")\n",
    "    \n",
    "    for i in range(len(sentence)):\n",
    "        if (sentence[i] == 'not'):\n",
    "            j = i\n",
    "            if (j < len(sentence)):\n",
    "                while (j< len(sentence) and (not(sentence[j] in punctuation) and sentence[j]!= \"\")):\n",
    "                    if (sentence[j] == \"not\"):\n",
    "                        sentence[j] = \"\"\n",
    "                        j+=1\n",
    "                    elif(not(sentence[j] in punctuation) and (sentence)) : \n",
    "                        sentence[j] = \"not\"+sentence[j]\n",
    "                        j+=1\n",
    "                        if (j>=len(sentence)):\n",
    "                            break\n",
    "                    else : \n",
    "                        j+=1\n",
    "    sentence = \" \".join(sentence)                    \n",
    "    return sentence\n",
    "    "
   ]
  },
  {
   "cell_type": "code",
   "execution_count": 6,
   "metadata": {
    "scrolled": true
   },
   "outputs": [
    {
     "name": "stdout",
     "output_type": "stream",
     "text": [
      "Length of x :12070\n"
     ]
    }
   ],
   "source": [
    "x,y=[],[]\n",
    "x,y = open_book(x,y)\n",
    "x,y = open_movie(x,y)\n",
    "not_sentences = []\n",
    "y_not_sentences = []\n",
    "\n",
    "for i in range(len(x)) :\n",
    "    if (\"not\" in x[i]):\n",
    "        x[i]=treatment_negation(x[i])\n",
    "        not_sentences.append(x[i])\n",
    "\n",
    "print(\"Length of x :\"+str(len(x)))\n",
    "sentences= pretreatment(x)"
   ]
  },
  {
   "cell_type": "code",
   "execution_count": 10,
   "metadata": {},
   "outputs": [],
   "source": [
    "sentences_v,max_len = vectorization(sentences,model.wv,word_length=300,adaptable_len=True)"
   ]
  },
  {
   "cell_type": "code",
   "execution_count": 24,
   "metadata": {},
   "outputs": [
    {
     "name": "stdout",
     "output_type": "stream",
     "text": [
      "Length of x :12070\n"
     ]
    }
   ],
   "source": [
    "x,y=[],[]\n",
    "x,y = open_book(x,y)\n",
    "x,y = open_movie(x,y)\n",
    "not_sentences = []\n",
    "y_not_sentences = []\n",
    "\n",
    "for i in range(len(x)) :\n",
    "    if (\"not\" in x[i]):\n",
    "        not_sentences.append(x[i])\n",
    "        y_not_sentences.append(y[i])\n",
    "        \n",
    "print(\"Length of x :\"+str(len(x)))\n",
    "sentences_v = pretreatment(x)\n",
    "sentences_v_negation = pretreatment(not_sentences)"
   ]
  },
  {
   "cell_type": "code",
   "execution_count": 30,
   "metadata": {},
   "outputs": [],
   "source": [
    "model = load_google_word2vec()"
   ]
  },
  {
   "cell_type": "code",
   "execution_count": 7,
   "metadata": {},
   "outputs": [
    {
     "data": {
      "text/plain": [
       "1"
      ]
     },
     "execution_count": 7,
     "metadata": {},
     "output_type": "execute_result"
    }
   ],
   "source": [
    "len(model.wv.vocab)"
   ]
  },
  {
   "cell_type": "code",
   "execution_count": 6,
   "metadata": {},
   "outputs": [],
   "source": [
    "from gensim.models import Word2Vec\n",
    "model = Word2Vec(\"variables/review_rating/word2vec/300/Model_not_300\")"
   ]
  },
  {
   "cell_type": "code",
   "execution_count": 4,
   "metadata": {},
   "outputs": [],
   "source": [
    "from gensim.models import Word2Vec\n",
    "model = Word2Vec.load(\"variables/review_rating/not/model\")"
   ]
  },
  {
   "cell_type": "code",
   "execution_count": 8,
   "metadata": {},
   "outputs": [
    {
     "name": "stderr",
     "output_type": "stream",
     "text": [
      "/home/robin/anaconda3/lib/python3.6/site-packages/ipykernel_launcher.py:1: DeprecationWarning: Call to deprecated `min_count` (Attribute will be removed in 4.0.0, use self.vocabulary.min_count instead).\n",
      "  \"\"\"Entry point for launching an IPython kernel.\n"
     ]
    },
    {
     "data": {
      "text/plain": [
       "(3446967, 4424480)"
      ]
     },
     "execution_count": 8,
     "metadata": {},
     "output_type": "execute_result"
    }
   ],
   "source": [
    "model.min_count = 1\n",
    "model.build_vocab(sentences = sentences,update = True)\n",
    "model.train(sentences = sentences,total_examples = len(sentences),epochs = 20)"
   ]
  },
  {
   "cell_type": "code",
   "execution_count": 9,
   "metadata": {},
   "outputs": [
    {
     "name": "stderr",
     "output_type": "stream",
     "text": [
      "/home/robin/anaconda3/lib/python3.6/site-packages/ipykernel_launcher.py:1: DeprecationWarning: Call to deprecated `most_similar` (Method will be removed in 4.0.0, use self.wv.most_similar() instead).\n",
      "  \"\"\"Entry point for launching an IPython kernel.\n",
      "/home/robin/.local/lib/python3.6/site-packages/gensim/matutils.py:737: FutureWarning: Conversion of the second argument of issubdtype from `int` to `np.signedinteger` is deprecated. In future, it will be treated as `np.int64 == np.dtype(int).type`.\n",
      "  if np.issubdtype(vec.dtype, np.int):\n"
     ]
    },
    {
     "data": {
      "text/plain": [
       "[('notdocsis', 0.34917929768562317),\n",
       " ('terrible', 0.34863656759262085),\n",
       " ('notwacom', 0.34311506152153015),\n",
       " ('notghz', 0.33991652727127075),\n",
       " ('notceton', 0.33933132886886597),\n",
       " ('notzone', 0.33884286880493164),\n",
       " ('notformula', 0.338528573513031),\n",
       " ('notnot', 0.3383396863937378),\n",
       " ('notgags', 0.334600567817688),\n",
       " ('nothere', 0.3337255120277405)]"
      ]
     },
     "execution_count": 9,
     "metadata": {},
     "output_type": "execute_result"
    }
   ],
   "source": [
    "model.most_similar(positive=[\"not\",\"bad\"])"
   ]
  },
  {
   "cell_type": "code",
   "execution_count": 76,
   "metadata": {},
   "outputs": [
    {
     "data": {
      "text/plain": [
       "(1762994, 2258470)"
      ]
     },
     "execution_count": 76,
     "metadata": {},
     "output_type": "execute_result"
    }
   ],
   "source": [
    "model.train(sentences_v,total_examples=len(sentences_v), epochs=10)"
   ]
  },
  {
   "cell_type": "markdown",
   "metadata": {},
   "source": [
    "# Training google on not sentences"
   ]
  },
  {
   "cell_type": "code",
   "execution_count": 34,
   "metadata": {},
   "outputs": [
    {
     "name": "stderr",
     "output_type": "stream",
     "text": [
      "/home/robin/anaconda3/lib/python3.6/site-packages/ipykernel_launcher.py:1: DeprecationWarning: Call to deprecated `min_count` (Attribute will be removed in 4.0.0, use self.vocabulary.min_count instead).\n",
      "  \"\"\"Entry point for launching an IPython kernel.\n"
     ]
    }
   ],
   "source": [
    "model.min_count=1\n",
    "model.build_vocab(not_sentences,update= True)"
   ]
  },
  {
   "cell_type": "code",
   "execution_count": 44,
   "metadata": {},
   "outputs": [
    {
     "name": "stdout",
     "output_type": "stream",
     "text": [
      "True\n"
     ]
    }
   ],
   "source": [
    "sent = \"it was not bad but i think i would enjoy mcdonald more\"\n",
    "print(\"not\" in sent)"
   ]
  },
  {
   "cell_type": "code",
   "execution_count": 7,
   "metadata": {},
   "outputs": [
    {
     "name": "stdout",
     "output_type": "stream",
     "text": [
      "6000\n"
     ]
    }
   ],
   "source": [
    "x,y=[],[]\n",
    "x,y = open_uci()\n",
    "print(len(x))\n",
    "model = load_google_word2vec()\n",
    "sentences_v,max_len = vectorization(pretreatment(x),model,word_length=300,adaptable_len=True)"
   ]
  },
  {
   "cell_type": "code",
   "execution_count": 48,
   "metadata": {},
   "outputs": [],
   "source": [
    "import numpy as np\n",
    "sentences_v = np.array(sentences_v)\n",
    "sentences_v_svm = np.reshape(sentences_v,(sentences_v.shape[0],sentences_v.shape[1]*sentences_v.shape[2]))"
   ]
  },
  {
   "cell_type": "markdown",
   "metadata": {},
   "source": [
    "# Word2Vec part"
   ]
  },
  {
   "cell_type": "markdown",
   "metadata": {},
   "source": [
    " ### Training of the Word2Vec model"
   ]
  },
  {
   "cell_type": "code",
   "execution_count": 8,
   "metadata": {
    "slideshow": {
     "slide_type": "skip"
    }
   },
   "outputs": [
    {
     "data": {
      "text/plain": [
       "(1107190, 2402790)"
      ]
     },
     "execution_count": 8,
     "metadata": {},
     "output_type": "execute_result"
    }
   ],
   "source": [
    "from gensim.models.word2vec import Word2Vec\n",
    "model = Word2Vec(sentences, size=200, min_count=20, workers=4,sorted_vocab=1)\n",
    "model.train(sentences,total_examples=len(sentences), epochs=10)"
   ]
  },
  {
   "cell_type": "markdown",
   "metadata": {},
   "source": [
    "### Loading of the already trained models"
   ]
  },
  {
   "cell_type": "code",
   "execution_count": 33,
   "metadata": {},
   "outputs": [],
   "source": [
    "from gensim.models.word2vec import Word2Vec\n",
    "model = Word2Vec.load('variables/review_rating/word2vec/300/model_300_Movie_elec')"
   ]
  },
  {
   "cell_type": "markdown",
   "metadata": {},
   "source": [
    "# Splitting of the data into train and test set"
   ]
  },
  {
   "cell_type": "code",
   "execution_count": 11,
   "metadata": {},
   "outputs": [
    {
     "name": "stderr",
     "output_type": "stream",
     "text": [
      "Using TensorFlow backend.\n"
     ]
    }
   ],
   "source": [
    "from sklearn.model_selection import train_test_split\n",
    "import numpy as np\n",
    "x_vec_train,x_vec_test,y_vec_train,y_vec_test = train_test_split(sentences_v,y,test_size=0.1,random_state=42)\n",
    "x_vec_train=np.array(x_vec_train)\n",
    "x_vec_test=np.array(x_vec_test)\n",
    "from keras.utils import to_categorical\n",
    "y_vec_train=to_categorical(y_vec_train)\n",
    "y_vec_test=to_categorical(y_vec_test)  "
   ]
  },
  {
   "cell_type": "code",
   "execution_count": 12,
   "metadata": {
    "scrolled": true
   },
   "outputs": [
    {
     "data": {
      "text/plain": [
       "(10863, 50, 300)"
      ]
     },
     "execution_count": 12,
     "metadata": {},
     "output_type": "execute_result"
    }
   ],
   "source": [
    "x_vec_train.shape"
   ]
  },
  {
   "cell_type": "markdown",
   "metadata": {},
   "source": [
    "# Neural network creation"
   ]
  },
  {
   "cell_type": "code",
   "execution_count": 13,
   "metadata": {
    "scrolled": true
   },
   "outputs": [],
   "source": [
    "# Neural Network\n",
    "def model_creation():\n",
    "    \n",
    "    WORD_LENGTH=300\n",
    "    max_len=50\n",
    "    \n",
    "    from keras.models import Sequential\n",
    "    from keras.layers import Dense, Activation,Convolution1D,Flatten,MaxPooling1D,Conv1D,LSTM\n",
    "    from keras.layers import Dropout\n",
    "\n",
    "    NN1 = Sequential()\n",
    "\n",
    "    NN1.add(Dense(max_len, activation='relu',input_shape=(max_len,WORD_LENGTH)))\n",
    "    NN1.add(Dropout(0.5))\n",
    "    \n",
    "    NN1.add(Convolution1D(64,kernel_size=10,activation='relu',border_mode='causal',input_shape=(max_len,WORD_LENGTH)))\n",
    "    NN1.add(Dropout(0.5))\n",
    "    \n",
    "    NN1.add(MaxPooling1D(pool_size=2, strides=None, padding='same'))\n",
    "\n",
    "    NN1.add(LSTM(50))\n",
    "    NN1.add(Dropout(0.5))\n",
    "    \n",
    "    NN1.add(Dense(250, activation='relu'))\n",
    "    NN1.add(Dropout(0.5))\n",
    "       \n",
    "    NN1.add(Dense(250, activation='relu'))\n",
    "    NN1.add(Dropout(0.5))\n",
    "          \n",
    "    NN1.add(Dense(2, activation='softmax'))\n",
    "\n",
    "    NN1.compile(loss='binary_crossentropy', optimizer='adam', metrics=['accuracy'])\n",
    "    return NN1"
   ]
  },
  {
   "cell_type": "markdown",
   "metadata": {},
   "source": [
    "# Training of the model"
   ]
  },
  {
   "cell_type": "code",
   "execution_count": 14,
   "metadata": {
    "scrolled": false
   },
   "outputs": [
    {
     "name": "stderr",
     "output_type": "stream",
     "text": [
      "/home/robin/anaconda3/lib/python3.6/site-packages/ipykernel_launcher.py:16: UserWarning: Update your `Conv1D` call to the Keras 2 API: `Conv1D(64, kernel_size=10, activation=\"relu\", input_shape=(50, 300), padding=\"causal\")`\n",
      "  app.launch_new_instance()\n"
     ]
    },
    {
     "name": "stdout",
     "output_type": "stream",
     "text": [
      "Train on 9776 samples, validate on 1087 samples\n",
      "Epoch 1/15\n",
      "9776/9776 [==============================] - 17s 2ms/step - loss: 0.6819 - acc: 0.5373 - val_loss: 0.5428 - val_acc: 0.7323\n",
      "\n",
      "Epoch 00001: val_loss improved from inf to 0.54281, saving model to weights.hdf5\n",
      "Epoch 2/15\n",
      "9776/9776 [==============================] - 13s 1ms/step - loss: 0.5359 - acc: 0.7364 - val_loss: 0.4736 - val_acc: 0.7645\n",
      "\n",
      "Epoch 00002: val_loss improved from 0.54281 to 0.47357, saving model to weights.hdf5\n",
      "Epoch 3/15\n",
      "9776/9776 [==============================] - 13s 1ms/step - loss: 0.4879 - acc: 0.7719 - val_loss: 0.4619 - val_acc: 0.7691\n",
      "\n",
      "Epoch 00003: val_loss improved from 0.47357 to 0.46186, saving model to weights.hdf5\n",
      "Epoch 4/15\n",
      "9776/9776 [==============================] - 13s 1ms/step - loss: 0.4661 - acc: 0.7853 - val_loss: 0.4646 - val_acc: 0.7718\n",
      "\n",
      "Epoch 00004: val_loss did not improve from 0.46186\n",
      "Epoch 5/15\n",
      "9776/9776 [==============================] - 13s 1ms/step - loss: 0.4509 - acc: 0.7979 - val_loss: 0.4543 - val_acc: 0.7783\n",
      "\n",
      "Epoch 00005: val_loss improved from 0.46186 to 0.45431, saving model to weights.hdf5\n",
      "Epoch 6/15\n",
      "9776/9776 [==============================] - 14s 1ms/step - loss: 0.4405 - acc: 0.7979 - val_loss: 0.5017 - val_acc: 0.7792\n",
      "\n",
      "Epoch 00006: val_loss did not improve from 0.45431\n",
      "Epoch 7/15\n",
      "9776/9776 [==============================] - 13s 1ms/step - loss: 0.4310 - acc: 0.8092 - val_loss: 0.4544 - val_acc: 0.7774\n",
      "\n",
      "Epoch 00007: val_loss did not improve from 0.45431\n",
      "Epoch 8/15\n",
      "9776/9776 [==============================] - 13s 1ms/step - loss: 0.4161 - acc: 0.8092 - val_loss: 0.4412 - val_acc: 0.7838\n",
      "\n",
      "Epoch 00008: val_loss improved from 0.45431 to 0.44121, saving model to weights.hdf5\n",
      "Epoch 9/15\n",
      "9776/9776 [==============================] - 13s 1ms/step - loss: 0.4177 - acc: 0.8049 - val_loss: 0.4340 - val_acc: 0.7875\n",
      "\n",
      "Epoch 00009: val_loss improved from 0.44121 to 0.43397, saving model to weights.hdf5\n",
      "Epoch 10/15\n",
      "9776/9776 [==============================] - 13s 1ms/step - loss: 0.4013 - acc: 0.8150 - val_loss: 0.4436 - val_acc: 0.7856\n",
      "\n",
      "Epoch 00010: val_loss did not improve from 0.43397\n",
      "Epoch 11/15\n",
      "9776/9776 [==============================] - 13s 1ms/step - loss: 0.4037 - acc: 0.8166 - val_loss: 0.4385 - val_acc: 0.7838\n",
      "\n",
      "Epoch 00011: val_loss did not improve from 0.43397\n",
      "Epoch 12/15\n",
      "9776/9776 [==============================] - 13s 1ms/step - loss: 0.3851 - acc: 0.8260 - val_loss: 0.4611 - val_acc: 0.7810\n",
      "\n",
      "Epoch 00012: val_loss did not improve from 0.43397\n",
      "Epoch 13/15\n",
      "9776/9776 [==============================] - 14s 1ms/step - loss: 0.3870 - acc: 0.8294 - val_loss: 0.4397 - val_acc: 0.7838\n",
      "\n",
      "Epoch 00013: val_loss did not improve from 0.43397\n",
      "Epoch 14/15\n",
      "9776/9776 [==============================] - 13s 1ms/step - loss: 0.3796 - acc: 0.8286 - val_loss: 0.4683 - val_acc: 0.7820\n",
      "\n",
      "Epoch 00014: val_loss did not improve from 0.43397\n",
      "Epoch 15/15\n",
      "9776/9776 [==============================] - 13s 1ms/step - loss: 0.3770 - acc: 0.8350 - val_loss: 0.4616 - val_acc: 0.7875\n",
      "\n",
      "Epoch 00015: val_loss did not improve from 0.43397\n",
      "The training took 3.4074788292249045 mn\n"
     ]
    }
   ],
   "source": [
    "import time\n",
    "from keras.callbacks import EarlyStopping\n",
    "from keras.callbacks import ModelCheckpoint\n",
    "\n",
    "start_time = time.time()\n",
    "checkpointer = ModelCheckpoint(filepath=\"weights.hdf5\", verbose=1, save_best_only=True)\n",
    "early_stopping = EarlyStopping(monitor='val_loss', min_delta=0,patience=0,verbose=0, mode='auto')\n",
    "\n",
    "NN = model_creation()\n",
    "\n",
    "hist_google = NN.fit(x_vec_train, y_vec_train, epochs=15, batch_size=32,validation_split=0.1,callbacks=[checkpointer])\n",
    "NN.load_weights('weights.hdf5')\n",
    "\n",
    "print(\"The training took \"+str((time.time()-start_time)/60)+\" mn\")"
   ]
  },
  {
   "cell_type": "code",
   "execution_count": 83,
   "metadata": {},
   "outputs": [
    {
     "name": "stdout",
     "output_type": "stream",
     "text": [
      "1207/1207 [==============================] - 1s 501us/step\n"
     ]
    },
    {
     "data": {
      "text/plain": [
       "[0.6375630318674057, 0.6114333058154178]"
      ]
     },
     "execution_count": 83,
     "metadata": {},
     "output_type": "execute_result"
    }
   ],
   "source": [
    "NN.evaluate(x_vec_test,y_vec_test)"
   ]
  },
  {
   "cell_type": "code",
   "execution_count": 15,
   "metadata": {},
   "outputs": [
    {
     "name": "stderr",
     "output_type": "stream",
     "text": [
      "/home/robin/anaconda3/lib/python3.6/site-packages/ipykernel_launcher.py:139: DeprecationWarning: Call to deprecated `__getitem__` (Method will be removed in 4.0.0, use self.wv.__getitem__() instead).\n"
     ]
    },
    {
     "name": "stdout",
     "output_type": "stream",
     "text": [
      "1000/1000 [==============================] - 0s 471us/step\n",
      "Accuracy and loss for the amazon dataset : 0.826\n",
      "\n",
      "1000/1000 [==============================] - 0s 469us/step\n",
      "Accuracy and loss for the yelp dataset : 0.803\n",
      "\n",
      "1000/1000 [==============================] - 0s 465us/step\n",
      "Accuracy and loss for the movies dataset : 0.836\n",
      "\n",
      "Mean for the 3 datasets = 0.8216666666666667\n",
      "\n",
      "1207/1207 [==============================] - 1s 459us/step\n",
      "Evaluation on the test set : [0.4115528097405548, 0.8077879041408643]\n"
     ]
    }
   ],
   "source": [
    "protocol_test(NN,model,50,x_vec_test,y_vec_test)"
   ]
  },
  {
   "cell_type": "code",
   "execution_count": 45,
   "metadata": {},
   "outputs": [
    {
     "name": "stdout",
     "output_type": "stream",
     "text": [
      "1240/1240 [==============================] - 1s 483us/step\n"
     ]
    },
    {
     "data": {
      "text/plain": [
       "[0.42217462351245266, 0.8129032261909978]"
      ]
     },
     "execution_count": 45,
     "metadata": {},
     "output_type": "execute_result"
    }
   ],
   "source": [
    "NN.evaluate(np.array(sentences_v_negation),y_vec_negation)"
   ]
  },
  {
   "cell_type": "code",
   "execution_count": 39,
   "metadata": {},
   "outputs": [
    {
     "ename": "AttributeError",
     "evalue": "'tuple' object has no attribute 'shape'",
     "output_type": "error",
     "traceback": [
      "\u001b[0;31m---------------------------------------------------------------------------\u001b[0m",
      "\u001b[0;31mAttributeError\u001b[0m                            Traceback (most recent call last)",
      "\u001b[0;32m<ipython-input-39-54831f317b19>\u001b[0m in \u001b[0;36m<module>\u001b[0;34m()\u001b[0m\n\u001b[0;32m----> 1\u001b[0;31m \u001b[0msentences_v_negation\u001b[0m\u001b[0;34m.\u001b[0m\u001b[0mshape\u001b[0m\u001b[0;34m\u001b[0m\u001b[0m\n\u001b[0m",
      "\u001b[0;31mAttributeError\u001b[0m: 'tuple' object has no attribute 'shape'"
     ]
    }
   ],
   "source": [
    "sentences_v_negation.shape"
   ]
  },
  {
   "cell_type": "markdown",
   "metadata": {},
   "source": [
    "# Dimension transformation for SVM"
   ]
  },
  {
   "cell_type": "code",
   "execution_count": 56,
   "metadata": {},
   "outputs": [
    {
     "name": "stdout",
     "output_type": "stream",
     "text": [
      "Nombre de données de validation : 441\n",
      "Nombre de données de test : 441\n"
     ]
    }
   ],
   "source": [
    "x_vec_test,x_vec_valid,y_vec_test,y_vec_valid =  train_test_split(x_vec_test,y_vec_test,test_size=0.5,random_state=42)\n",
    "print(\"Nombre de données de validation : \"+str(len(x_vec_valid)))\n",
    "print(\"Nombre de données de test : \"+str(len(x_vec_test)))"
   ]
  },
  {
   "cell_type": "code",
   "execution_count": 49,
   "metadata": {},
   "outputs": [],
   "source": [
    "from sklearn.model_selection import train_test_split\n",
    "import numpy as np\n",
    "x_vec_train,x_vec_test,y_vec_train,y_vec_test = train_test_split(sentences_v_svm,y,test_size=0.2,random_state=42)\n",
    "x_vec_train=np.array(x_vec_train)\n",
    "x_vec_test=np.array(x_vec_test)"
   ]
  },
  {
   "cell_type": "code",
   "execution_count": 19,
   "metadata": {},
   "outputs": [],
   "source": [
    "sub_sampling = 2000\n",
    "x_vec_train = x_vec_train[:sub_sampling]\n",
    "y_vec_train = y_vec_train[:sub_sampling]"
   ]
  },
  {
   "cell_type": "markdown",
   "metadata": {},
   "source": [
    "# SVM"
   ]
  },
  {
   "cell_type": "code",
   "execution_count": 20,
   "metadata": {},
   "outputs": [
    {
     "data": {
      "text/plain": [
       "0.7224523612261806"
      ]
     },
     "execution_count": 20,
     "metadata": {},
     "output_type": "execute_result"
    }
   ],
   "source": [
    "from sklearn.svm import SVC\n",
    "from sklearn.model_selection import GridSearchCV\n",
    "\n",
    "clf = SVC()\n",
    "\n",
    "param_grid = [\n",
    "  {'C': [1,10], 'gamma': [0.01], 'kernel': ['rbf']}\n",
    " ]\n",
    "\n",
    "grid = GridSearchCV(clf,param_grid)\n",
    "grid.fit(x_vec_train,y_vec_train)\n",
    "grid.score(x_vec_test,y_vec_test)"
   ]
  },
  {
   "cell_type": "code",
   "execution_count": 8,
   "metadata": {},
   "outputs": [
    {
     "data": {
      "text/plain": [
       "(9656, 15000)"
      ]
     },
     "execution_count": 8,
     "metadata": {},
     "output_type": "execute_result"
    }
   ],
   "source": [
    "x_vec_train.shape"
   ]
  },
  {
   "cell_type": "code",
   "execution_count": 10,
   "metadata": {},
   "outputs": [
    {
     "name": "stdout",
     "output_type": "stream",
     "text": [
      "The training took :23.356222065289817 mn\n"
     ]
    }
   ],
   "source": [
    "from sklearn.svm import SVC\n",
    "import pickle \n",
    "import time\n",
    "\n",
    "start_time = time.time()\n",
    "\n",
    "clf = SVC(C=1,kernel = \"linear\")\n",
    "clf.fit(x_vec_train,y_vec_train)\n",
    "\n",
    "print(\"The training took :\" + str((time.time()-start_time)/60)+\" mn\")\n",
    "\n",
    "filename = 'linear_svm_full.sav'\n",
    "pickle.dump(clf, open(filename, 'wb'))"
   ]
  },
  {
   "cell_type": "code",
   "execution_count": 6,
   "metadata": {},
   "outputs": [
    {
     "ename": "MemoryError",
     "evalue": "",
     "output_type": "error",
     "traceback": [
      "\u001b[0;31m---------------------------------------------------------------------------\u001b[0m",
      "\u001b[0;31mMemoryError\u001b[0m                               Traceback (most recent call last)",
      "\u001b[0;32m<ipython-input-6-f31545e7ed41>\u001b[0m in \u001b[0;36m<module>\u001b[0;34m()\u001b[0m\n\u001b[1;32m     14\u001b[0m \u001b[0;34m\u001b[0m\u001b[0m\n\u001b[1;32m     15\u001b[0m \u001b[0mfilename\u001b[0m \u001b[0;34m=\u001b[0m \u001b[0;34m'rbf_svm_full.sav'\u001b[0m\u001b[0;34m\u001b[0m\u001b[0m\n\u001b[0;32m---> 16\u001b[0;31m \u001b[0mpickle\u001b[0m\u001b[0;34m.\u001b[0m\u001b[0mdump\u001b[0m\u001b[0;34m(\u001b[0m\u001b[0mclf\u001b[0m\u001b[0;34m,\u001b[0m \u001b[0mopen\u001b[0m\u001b[0;34m(\u001b[0m\u001b[0mfilename\u001b[0m\u001b[0;34m,\u001b[0m \u001b[0;34m'wb'\u001b[0m\u001b[0;34m)\u001b[0m\u001b[0;34m)\u001b[0m\u001b[0;34m\u001b[0m\u001b[0m\n\u001b[0m\u001b[1;32m     17\u001b[0m \u001b[0;34m\u001b[0m\u001b[0m\n\u001b[1;32m     18\u001b[0m \u001b[0mclf\u001b[0m \u001b[0;34m=\u001b[0m \u001b[0mSVC\u001b[0m\u001b[0;34m(\u001b[0m\u001b[0mC\u001b[0m\u001b[0;34m=\u001b[0m\u001b[0;36m1\u001b[0m\u001b[0;34m,\u001b[0m\u001b[0mkernel\u001b[0m \u001b[0;34m=\u001b[0m \u001b[0;34m\"rbf\"\u001b[0m\u001b[0;34m,\u001b[0m\u001b[0mgamma\u001b[0m\u001b[0;34m=\u001b[0m\u001b[0;36m0.1\u001b[0m\u001b[0;34m)\u001b[0m\u001b[0;34m\u001b[0m\u001b[0m\n",
      "\u001b[0;31mMemoryError\u001b[0m: "
     ]
    }
   ],
   "source": [
    "from sklearn.svm import SVC\n",
    "import pickle \n",
    "\n",
    "sub_sampling = 2000\n",
    "\n",
    "clf = SVC(C=1,kernel = \"linear\")\n",
    "clf.fit(x_vec_train,y_vec_train)\n",
    "\n",
    "filename = 'linear_svm_full.sav'\n",
    "pickle.dump(clf, open(filename, 'wb'))\n",
    "\n",
    "clf = SVC(C=1,kernel = \"rbf\",gamma=0.1)\n",
    "clf.fit(x_vec_train,y_vec_train)\n",
    "\n",
    "filename = 'rbf_svm_full.sav'\n",
    "pickle.dump(clf, open(filename, 'wb'))\n",
    "\n",
    "clf = SVC(C=1,kernel = \"rbf\",gamma=0.1)\n",
    "clf.fit(x_vec_train[:sub_sampling],y_vec_train[:sub_sampling])\n",
    "\n",
    "filename = 'rbf_svm_sub.sav'\n",
    "pickle.dump(clf, open(filename, 'wb'))\n",
    "\n",
    "clf = SVC(C=1,kernel = \"linear\")\n",
    "clf.fit(x_vec_train[:sub_sampling],y_vec_train[:sub_sampling])\n",
    "\n",
    "filename = 'linear_svm_sub.sav'\n",
    "pickle.dump(clf, open(filename, 'wb'))\n"
   ]
  },
  {
   "cell_type": "code",
   "execution_count": 51,
   "metadata": {},
   "outputs": [
    {
     "name": "stdout",
     "output_type": "stream",
     "text": [
      "0.7017398508699254\n"
     ]
    }
   ],
   "source": [
    "import pickle\n",
    "filename = 'linear_svm_full.sav'\n",
    "loaded_model = pickle.load(open(filename, 'rb'))\n",
    "result = loaded_model.score(x_vec_test, y_vec_test)\n",
    "print(result)"
   ]
  },
  {
   "cell_type": "markdown",
   "metadata": {},
   "source": [
    "# Plotting of validation curve"
   ]
  },
  {
   "cell_type": "code",
   "execution_count": 19,
   "metadata": {},
   "outputs": [],
   "source": [
    "from matplotlib import pyplot as plt\n",
    "\n",
    "def plot_acc_loss (history,path=\"\"):\n",
    "\n",
    "    plt.figure(figsize=(13,8))\n",
    "\n",
    "    #plt.plot(hist_google.history[\"val_acc\"],'r*-')\n",
    "    #plt.plot(hist_google.history[\"acc\"],'b*-')\n",
    "    plt.plot(history.history[\"val_acc\"],'r-')\n",
    "    plt.plot(history.history[\"acc\"],'b-')\n",
    "    plt.xlabel(\"epochs\")\n",
    "    plt.ylabel(\"accuracy\")\n",
    "    plt.legend((\"Validation accuracy\",\"Training accuracy\"))\n",
    "    \n",
    "    if (path != \"\"):\n",
    "        plt.savefig(path+\"_acc\")\n",
    "    \n",
    "    plt.show()    \n",
    "\n",
    "    plt.figure(figsize=(13,8))\n",
    "    #plt.plot(hist_google.history[\"val_loss\"],'r*-')\n",
    "    #plt.plot(hist_google.history[\"loss\"],'b*-')\n",
    "    plt.plot(history.history[\"val_loss\"],'r-')\n",
    "    plt.plot(history.history[\"loss\"],'b-')\n",
    "    plt.xlabel(\"epochs\")\n",
    "    plt.ylabel(\"loss\")\n",
    "    plt.legend((\"Validation loss\",\"Training loss\"))\n",
    "    if (path != \"\"):\n",
    "        plt.savefig(path+\"_loss\")\n",
    "\n",
    "    plt.show()    "
   ]
  },
  {
   "cell_type": "code",
   "execution_count": 20,
   "metadata": {},
   "outputs": [
    {
     "data": {
      "image/png": "[encoded data removed]",
      "text/plain": [
       "<Figure size 936x576 with 1 Axes>"
      ]
     },
     "metadata": {},
     "output_type": "display_data"
    },
    {
     "data": {
      "image/png": "[encoded data removed]",
      "text/plain": [
       "<Figure size 936x576 with 1 Axes>"
      ]
     },
     "metadata": {},
     "output_type": "display_data"
    }
   ],
   "source": [
    "plot_acc_loss(hist_google)"
   ]
  },
  {
   "cell_type": "markdown",
   "metadata": {},
   "source": [
    "# Training of the model on all the data"
   ]
  },
  {
   "cell_type": "code",
   "execution_count": 12,
   "metadata": {
    "scrolled": true
   },
   "outputs": [
    {
     "name": "stderr",
     "output_type": "stream",
     "text": [
      "/home/robin/anaconda3/lib/python3.6/site-packages/ipykernel_launcher.py:16: UserWarning: Update your `Conv1D` call to the Keras 2 API: `Conv1D(64, kernel_size=10, activation=\"relu\", input_shape=(50, 300), padding=\"causal\")`\n",
      "  app.launch_new_instance()\n"
     ]
    },
    {
     "name": "stdout",
     "output_type": "stream",
     "text": [
      "Train on 10863 samples, validate on 1207 samples\n",
      "Epoch 1/20\n",
      "10863/10863 [==============================] - 19s 2ms/step - loss: 0.6373 - acc: 0.6091 - val_loss: 0.8109 - val_acc: 0.5518\n",
      "\n",
      "Epoch 00001: val_loss improved from inf to 0.81088, saving model to weights.hdf5\n",
      "Epoch 2/20\n",
      "10863/10863 [==============================] - 15s 1ms/step - loss: 0.4847 - acc: 0.7785 - val_loss: 0.6205 - val_acc: 0.6603\n",
      "\n",
      "Epoch 00002: val_loss improved from 0.81088 to 0.62049, saving model to weights.hdf5\n",
      "Epoch 3/20\n",
      "10863/10863 [==============================] - 15s 1ms/step - loss: 0.4444 - acc: 0.7966 - val_loss: 0.5181 - val_acc: 0.7283\n",
      "\n",
      "Epoch 00003: val_loss improved from 0.62049 to 0.51806, saving model to weights.hdf5\n",
      "Epoch 4/20\n",
      "10863/10863 [==============================] - 15s 1ms/step - loss: 0.4213 - acc: 0.8114 - val_loss: 0.5966 - val_acc: 0.6446\n",
      "\n",
      "Epoch 00004: val_loss did not improve from 0.51806\n",
      "Epoch 5/20\n",
      "10863/10863 [==============================] - 15s 1ms/step - loss: 0.4074 - acc: 0.8186 - val_loss: 0.5501 - val_acc: 0.6761\n",
      "\n",
      "Epoch 00005: val_loss did not improve from 0.51806\n",
      "Epoch 6/20\n",
      "10863/10863 [==============================] - 15s 1ms/step - loss: 0.3972 - acc: 0.8263 - val_loss: 0.8307 - val_acc: 0.5311\n",
      "\n",
      "Epoch 00006: val_loss did not improve from 0.51806\n",
      "Epoch 7/20\n",
      "10863/10863 [==============================] - 16s 1ms/step - loss: 0.3856 - acc: 0.8277 - val_loss: 0.4389 - val_acc: 0.7854\n",
      "\n",
      "Epoch 00007: val_loss improved from 0.51806 to 0.43887, saving model to weights.hdf5\n",
      "Epoch 8/20\n",
      "10863/10863 [==============================] - 16s 1ms/step - loss: 0.3745 - acc: 0.8339 - val_loss: 0.6041 - val_acc: 0.6711\n",
      "\n",
      "Epoch 00008: val_loss did not improve from 0.43887\n",
      "Epoch 9/20\n",
      "10863/10863 [==============================] - 15s 1ms/step - loss: 0.3683 - acc: 0.8395 - val_loss: 0.5713 - val_acc: 0.6752\n",
      "\n",
      "Epoch 00009: val_loss did not improve from 0.43887\n",
      "Epoch 10/20\n",
      "10863/10863 [==============================] - 15s 1ms/step - loss: 0.3622 - acc: 0.8413 - val_loss: 0.7819 - val_acc: 0.6769\n",
      "\n",
      "Epoch 00010: val_loss did not improve from 0.43887\n",
      "Epoch 11/20\n",
      "10863/10863 [==============================] - 15s 1ms/step - loss: 0.3500 - acc: 0.8462 - val_loss: 0.5539 - val_acc: 0.7357\n",
      "\n",
      "Epoch 00011: val_loss did not improve from 0.43887\n",
      "Epoch 12/20\n",
      "10863/10863 [==============================] - 15s 1ms/step - loss: 0.3461 - acc: 0.8531 - val_loss: 0.6110 - val_acc: 0.6363\n",
      "\n",
      "Epoch 00012: val_loss did not improve from 0.43887\n",
      "Epoch 13/20\n",
      "10863/10863 [==============================] - 15s 1ms/step - loss: 0.3357 - acc: 0.8535 - val_loss: 0.6862 - val_acc: 0.7042\n",
      "\n",
      "Epoch 00013: val_loss did not improve from 0.43887\n",
      "Epoch 14/20\n",
      "10863/10863 [==============================] - 16s 1ms/step - loss: 0.3386 - acc: 0.8513 - val_loss: 0.7592 - val_acc: 0.6570\n",
      "\n",
      "Epoch 00014: val_loss did not improve from 0.43887\n",
      "Epoch 15/20\n",
      "10863/10863 [==============================] - 16s 1ms/step - loss: 0.3275 - acc: 0.8605 - val_loss: 0.6968 - val_acc: 0.6628\n",
      "\n",
      "Epoch 00015: val_loss did not improve from 0.43887\n",
      "Epoch 16/20\n",
      "10863/10863 [==============================] - 16s 1ms/step - loss: 0.3258 - acc: 0.8619 - val_loss: 0.3939 - val_acc: 0.7763\n",
      "\n",
      "Epoch 00016: val_loss improved from 0.43887 to 0.39393, saving model to weights.hdf5\n",
      "Epoch 17/20\n",
      "10863/10863 [==============================] - 15s 1ms/step - loss: 0.3152 - acc: 0.8632 - val_loss: 0.5357 - val_acc: 0.7183\n",
      "\n",
      "Epoch 00017: val_loss did not improve from 0.39393\n",
      "Epoch 18/20\n",
      "10863/10863 [==============================] - 16s 1ms/step - loss: 0.3115 - acc: 0.8673 - val_loss: 0.7419 - val_acc: 0.6288\n",
      "\n",
      "Epoch 00018: val_loss did not improve from 0.39393\n",
      "Epoch 19/20\n",
      "10863/10863 [==============================] - 15s 1ms/step - loss: 0.3052 - acc: 0.8667 - val_loss: 0.6484 - val_acc: 0.5998\n",
      "\n",
      "Epoch 00019: val_loss did not improve from 0.39393\n",
      "Epoch 20/20\n",
      "10863/10863 [==============================] - 15s 1ms/step - loss: 0.3032 - acc: 0.8673 - val_loss: 0.8605 - val_acc: 0.5783\n",
      "\n",
      "Epoch 00020: val_loss did not improve from 0.39393\n",
      "The training took 5.416325124104818 mn\n"
     ]
    }
   ],
   "source": [
    "from keras.utils import to_categorical\n",
    "import time\n",
    "from keras.callbacks import EarlyStopping\n",
    "from keras.callbacks import ModelCheckpoint\n",
    "import numpy as np\n",
    "start_time = time.time()\n",
    "checkpointer = ModelCheckpoint(filepath=\"weights.hdf5\", verbose=1, save_best_only=True)\n",
    "early_stopping = EarlyStopping(monitor='val_loss', min_delta=0,patience=0,verbose=0, mode='auto')\n",
    "\n",
    "NN = model_creation()\n",
    "\n",
    "hist_google = NN.fit(np.array(sentences_v), to_categorical(y), epochs=20, batch_size=32,validation_split=0.1,callbacks=[checkpointer])\n",
    "NN.load_weights('weights.hdf5')\n",
    "\n",
    "print(\"The training took \"+str((time.time()-start_time)/60)+\" mn\")"
   ]
  },
  {
   "cell_type": "markdown",
   "metadata": {},
   "source": [
    "# Cross validation and model comparaison"
   ]
  },
  {
   "cell_type": "code",
   "execution_count": 12,
   "metadata": {
    "scrolled": true
   },
   "outputs": [],
   "source": [
    "def time_estimation_cross_val(nb_epochs,nb_s_epoch,nb_split):\n",
    "    nb_min = (nb_epochs*nb_s_epoch*nb_split*nb_split)/60\n",
    "    print(\"The cross_validation will take around : \"+str(nb_min)+\" mn\")\n",
    "    return nb_min\n",
    "    \n",
    "def cross_val(model_function,x_train,y_train,nb_splits,nb_epochs):\n",
    "    \"\"\" This function allows to do a cross validation over a keras model\n",
    "        Keyword arguments:\n",
    "        model_function -- A function returning your model\n",
    "        x_train -- The train data\n",
    "        y_train -- The train target\n",
    "        nb_splits -- The number of folds \n",
    "        nb_epochs -- The number of epochs you want to train your network with \n",
    "                     /!\\ One validation will be a total of nb_folds*nb_epochs total number of epochs\n",
    "    \"\"\"\n",
    "    import time    \n",
    "    start_time = time.time()\n",
    "    \n",
    "    indices = np.linspace(0,len(x_train)-1,num=nb_splits+1,dtype=int)\n",
    "    split_data = []\n",
    "\n",
    "    # Creation of the splits\n",
    "    split_data.append((x_train[indices[0]:indices[1]],y_train[indices[0]:indices[1]]))\n",
    "    for i in range(1,len(indices)-1):\n",
    "        split_data.append((x_train[indices[i]+1:indices[i+1]],y_train[indices[i]+1:indices[i+1]]))\n",
    "\n",
    "    # Cross val    \n",
    "    score = []\n",
    "    for i in range(nb_splits):\n",
    "        model = model_function()\n",
    "        valid = split_data[i]\n",
    "        for j in range(nb_splits):\n",
    "            if (j != i):\n",
    "                model.fit(split_data[j][0],split_data[j][1],epochs=nb_epochs,batch_size=150)\n",
    "        score.append(model.evaluate(valid[0],valid[1]))\n",
    "        \n",
    "    std = np.std([a[1] for a in score])\n",
    "    mean = np.mean([a[1] for a in score])\n",
    "    \n",
    "    print(\"Accruracy neural network: \"+str(mean*100)+\"% +- \"+str(std*100)+\"%\")\n",
    "    print(\"--- %s minutes elapsed---\" % ((time.time() - start_time)/60))\n",
    "\n",
    "    return model,score,(mean,std)\n",
    "\n",
    "\n",
    "def multi_cross_val(model_functions,x_train,y_train,nb_splits,nb_epochs):\n",
    "    \"\"\" This function allows to compare different models over a k-fold cross validation\n",
    "        Keyword arguments:\n",
    "        model_functions -- A list containing the functions returning the different models you want to test\n",
    "        x_train -- The train data\n",
    "        y_train -- The train target\n",
    "        nb_splits -- The number of folds \n",
    "        nb_epochs -- The number of epochs you want to train your network with \n",
    "                     /!\\ One validation will be a total of nb_folds*nb_epochs total number of epochs\n",
    "    \"\"\"\n",
    "    import time\n",
    "    \n",
    "    start_time = time.time()\n",
    "    \n",
    "    indices = np.linspace(0,len(x_train)-1,num=nb_splits+1,dtype=int)\n",
    "    split_data = []\n",
    "\n",
    "    # Creeation of the splits\n",
    "    split_data.append((x_train[indices[0]:indices[1]],y_train[indices[0]:indices[1]]))\n",
    "    for i in range(1,len(indices)-1):\n",
    "        split_data.append((x_train[indices[i]+1:indices[i+1]],y_train[indices[i]+1:indices[i+1]]))\n",
    "\n",
    "    # Cross val    \n",
    "    score = []\n",
    "    for i in range(nb_splits):\n",
    "        print(\"Split no :\"+str(i))\n",
    "        models = [f() for f in model_functions]\n",
    "        valid = split_data[i]\n",
    "        for j in range(nb_splits):\n",
    "            if (j != i):\n",
    "                for m in models :\n",
    "                    try : \n",
    "                        m.fit(split_data[j][0],split_data[j][1],epochs=nb_epochs,batch_size=150)\n",
    "                    except :\n",
    "                        print(m.summary())\n",
    "        for k in range(len(models)) :\n",
    "            score.append((k,models[k].evaluate(valid[0],valid[1])))\n",
    "    std = {}\n",
    "    mean = {}\n",
    "    \n",
    "    for i in range(len(models)):\n",
    "        tmp = [s for s in score if s[0]==i]\n",
    "        std[i]=np.std([a[1][1] for a in tmp])\n",
    "        mean[i]=np.mean([a[1][1] for a in tmp])\n",
    "\n",
    "    for k in mean.keys():\n",
    "        print(\"Accruracy neural network\"+str(k) +\" : \"+str(mean[k]*100)+\"% +- \"+str(std[k]*100)+\"%\")\n",
    "    \n",
    "    print(\"--- %s minutes elapsed---\" % ((time.time() - start_time)/60))\n",
    "\n",
    "    return models,score,mean,std"
   ]
  },
  {
   "cell_type": "markdown",
   "metadata": {},
   "source": [
    "# Saving of the model"
   ]
  },
  {
   "cell_type": "code",
   "execution_count": 14,
   "metadata": {},
   "outputs": [],
   "source": [
    "def save_model(model,name,path):\n",
    "    model_json = model.to_json()\n",
    "    with open(path+name+\".json\", \"w\") as json_file:\n",
    "        json_file.write(model_json)\n",
    "    # serialize weights to HDF5\n",
    "        model.save_weights(path+name+\".h5\")\n",
    "        print(\"Saved model to disk\")\n",
    "        \n",
    "def load_model(name,path):\n",
    "    from keras.models import model_from_json\n",
    "    # load json and create model\n",
    "    json_file = open(path+name+'.json', 'r')\n",
    "    loaded_model_json = json_file.read()\n",
    "    json_file.close()\n",
    "    loaded_model = model_from_json(loaded_model_json)\n",
    "    # load weights into new model\n",
    "    loaded_model.load_weights(path+name+\".h5\")\n",
    "    print(\"Loaded model from disk\")\n",
    "    return loaded_model\n"
   ]
  },
  {
   "cell_type": "code",
   "execution_count": 118,
   "metadata": {},
   "outputs": [
    {
     "name": "stdout",
     "output_type": "stream",
     "text": [
      "Saved model to disk\n"
     ]
    }
   ],
   "source": [
    "save_model(NN,\"Final\",\"models/\")"
   ]
  },
  {
   "cell_type": "code",
   "execution_count": 15,
   "metadata": {},
   "outputs": [
    {
     "name": "stdout",
     "output_type": "stream",
     "text": [
      "Loaded model from disk\n"
     ]
    }
   ],
   "source": [
    "NN_loaded = load_model(\"labelled+books_final\",\"models/\")\n",
    "NN_loaded.compile(loss='binary_crossentropy', optimizer='adam', metrics=['accuracy'])"
   ]
  },
  {
   "cell_type": "code",
   "execution_count": 16,
   "metadata": {},
   "outputs": [
    {
     "ename": "ValueError",
     "evalue": "Error when checking input: expected dense_39_input to have 3 dimensions, but got array with shape (882, 50)",
     "output_type": "error",
     "traceback": [
      "\u001b[0;31m---------------------------------------------------------------------------\u001b[0m",
      "\u001b[0;31mValueError\u001b[0m                                Traceback (most recent call last)",
      "\u001b[0;32m<ipython-input-16-75c13fdc1fcf>\u001b[0m in \u001b[0;36m<module>\u001b[0;34m()\u001b[0m\n\u001b[0;32m----> 1\u001b[0;31m \u001b[0mNN_loaded\u001b[0m\u001b[0;34m.\u001b[0m\u001b[0mevaluate\u001b[0m\u001b[0;34m(\u001b[0m\u001b[0mx_vec_test\u001b[0m\u001b[0;34m,\u001b[0m\u001b[0my_vec_test\u001b[0m\u001b[0;34m)\u001b[0m\u001b[0;34m\u001b[0m\u001b[0m\n\u001b[0m",
      "\u001b[0;32m~/.local/lib/python3.6/site-packages/keras/engine/training.py\u001b[0m in \u001b[0;36mevaluate\u001b[0;34m(self, x, y, batch_size, verbose, sample_weight, steps)\u001b[0m\n\u001b[1;32m   1103\u001b[0m             \u001b[0mx\u001b[0m\u001b[0;34m,\u001b[0m \u001b[0my\u001b[0m\u001b[0;34m,\u001b[0m\u001b[0;34m\u001b[0m\u001b[0m\n\u001b[1;32m   1104\u001b[0m             \u001b[0msample_weight\u001b[0m\u001b[0;34m=\u001b[0m\u001b[0msample_weight\u001b[0m\u001b[0;34m,\u001b[0m\u001b[0;34m\u001b[0m\u001b[0m\n\u001b[0;32m-> 1105\u001b[0;31m             batch_size=batch_size)\n\u001b[0m\u001b[1;32m   1106\u001b[0m         \u001b[0;31m# Prepare inputs, delegate logic to `test_loop`.\u001b[0m\u001b[0;34m\u001b[0m\u001b[0;34m\u001b[0m\u001b[0m\n\u001b[1;32m   1107\u001b[0m         \u001b[0;32mif\u001b[0m \u001b[0mself\u001b[0m\u001b[0;34m.\u001b[0m\u001b[0m_uses_dynamic_learning_phase\u001b[0m\u001b[0;34m(\u001b[0m\u001b[0;34m)\u001b[0m\u001b[0;34m:\u001b[0m\u001b[0;34m\u001b[0m\u001b[0m\n",
      "\u001b[0;32m~/.local/lib/python3.6/site-packages/keras/engine/training.py\u001b[0m in \u001b[0;36m_standardize_user_data\u001b[0;34m(self, x, y, sample_weight, class_weight, check_array_lengths, batch_size)\u001b[0m\n\u001b[1;32m    752\u001b[0m             \u001b[0mfeed_input_shapes\u001b[0m\u001b[0;34m,\u001b[0m\u001b[0;34m\u001b[0m\u001b[0m\n\u001b[1;32m    753\u001b[0m             \u001b[0mcheck_batch_axis\u001b[0m\u001b[0;34m=\u001b[0m\u001b[0;32mFalse\u001b[0m\u001b[0;34m,\u001b[0m  \u001b[0;31m# Don't enforce the batch size.\u001b[0m\u001b[0;34m\u001b[0m\u001b[0m\n\u001b[0;32m--> 754\u001b[0;31m             exception_prefix='input')\n\u001b[0m\u001b[1;32m    755\u001b[0m \u001b[0;34m\u001b[0m\u001b[0m\n\u001b[1;32m    756\u001b[0m         \u001b[0;32mif\u001b[0m \u001b[0my\u001b[0m \u001b[0;32mis\u001b[0m \u001b[0;32mnot\u001b[0m \u001b[0;32mNone\u001b[0m\u001b[0;34m:\u001b[0m\u001b[0;34m\u001b[0m\u001b[0m\n",
      "\u001b[0;32m~/.local/lib/python3.6/site-packages/keras/engine/training_utils.py\u001b[0m in \u001b[0;36mstandardize_input_data\u001b[0;34m(data, names, shapes, check_batch_axis, exception_prefix)\u001b[0m\n\u001b[1;32m    124\u001b[0m                         \u001b[0;34m': expected '\u001b[0m \u001b[0;34m+\u001b[0m \u001b[0mnames\u001b[0m\u001b[0;34m[\u001b[0m\u001b[0mi\u001b[0m\u001b[0;34m]\u001b[0m \u001b[0;34m+\u001b[0m \u001b[0;34m' to have '\u001b[0m \u001b[0;34m+\u001b[0m\u001b[0;34m\u001b[0m\u001b[0m\n\u001b[1;32m    125\u001b[0m                         \u001b[0mstr\u001b[0m\u001b[0;34m(\u001b[0m\u001b[0mlen\u001b[0m\u001b[0;34m(\u001b[0m\u001b[0mshape\u001b[0m\u001b[0;34m)\u001b[0m\u001b[0;34m)\u001b[0m \u001b[0;34m+\u001b[0m \u001b[0;34m' dimensions, but got array '\u001b[0m\u001b[0;34m\u001b[0m\u001b[0m\n\u001b[0;32m--> 126\u001b[0;31m                         'with shape ' + str(data_shape))\n\u001b[0m\u001b[1;32m    127\u001b[0m                 \u001b[0;32mif\u001b[0m \u001b[0;32mnot\u001b[0m \u001b[0mcheck_batch_axis\u001b[0m\u001b[0;34m:\u001b[0m\u001b[0;34m\u001b[0m\u001b[0m\n\u001b[1;32m    128\u001b[0m                     \u001b[0mdata_shape\u001b[0m \u001b[0;34m=\u001b[0m \u001b[0mdata_shape\u001b[0m\u001b[0;34m[\u001b[0m\u001b[0;36m1\u001b[0m\u001b[0;34m:\u001b[0m\u001b[0;34m]\u001b[0m\u001b[0;34m\u001b[0m\u001b[0m\n",
      "\u001b[0;31mValueError\u001b[0m: Error when checking input: expected dense_39_input to have 3 dimensions, but got array with shape (882, 50)"
     ]
    }
   ],
   "source": [
    "NN_loaded.evaluate(x_vec_test,y_vec_test)"
   ]
  },
  {
   "cell_type": "markdown",
   "metadata": {},
   "source": [
    "# Utilisation of the model for live prediction"
   ]
  },
  {
   "cell_type": "code",
   "execution_count": 26,
   "metadata": {},
   "outputs": [],
   "source": [
    "def vote(score):\n",
    "    import numpy as np\n",
    "    neg=[]\n",
    "    pos=[]\n",
    "    for s in score :\n",
    "        neg.append(s[0][0])\n",
    "        pos.append(s[0][1])\n",
    "    sup_neg = [n for n in neg if n > 0.5]\n",
    "    sup_pos = [p for p in pos if p > 0.5]\n",
    "\n",
    "    return [np.mean(neg),np.mean(pos)]\n",
    "    \n",
    "def predict(sentence,word2Vec_model,model,max_len=50,word_length=300):\n",
    "    import numpy as np\n",
    "    sentence = sentence.split(\" \")\n",
    "    good_sentence = []\n",
    "    unusued_words = []\n",
    "    for i in range(len(sentence)):\n",
    "        try :\n",
    "            sentence[i]=sentence[i].lower()\n",
    "            good_sentence.append(word2Vec_model.wv[sentence[i]])\n",
    "        except : \n",
    "            unusued_words.append(sentence[i])\n",
    "    sentence_length = len(good_sentence)\n",
    "    \n",
    "    if(sentence_length<max_len):    \n",
    "        for j in range(max_len-sentence_length):\n",
    "            good_sentence.append([0]*word_length)     \n",
    "            \n",
    "    if (sentence_length > max_len) :\n",
    "        predictions = []\n",
    "        ind = 0\n",
    "        for i in range(int(np.ceil(sentence_length/max_len))):\n",
    "            sent_tmp = good_sentence[ind:ind+max_len]\n",
    "            if(len(sent_tmp)<max_len):\n",
    "                for j in range(max_len-len(sent_tmp)):\n",
    "                    sent_tmp.append([0]*word_length)    \n",
    "            sent_tmp = np.array(sent_tmp)        \n",
    "            sent_tmp = np.reshape(sent_tmp, (1,sent_tmp.shape[0], sent_tmp.shape[1]))\n",
    "            try :\n",
    "                predictions.append(model.predict(sent_tmp))\n",
    "                ind+=max_len                    \n",
    "            except : \n",
    "                print(\"Erreur au découpage no :\"+str(i))\n",
    "        return vote(predictions)\n",
    "    \n",
    "    good_sentence = np.array(good_sentence)\n",
    "    good_sentence = np.reshape(good_sentence, (1,good_sentence.shape[0], good_sentence.shape[1]))\n",
    "    return np.squeeze(model.predict(good_sentence))"
   ]
  },
  {
   "cell_type": "code",
   "execution_count": 32,
   "metadata": {},
   "outputs": [
    {
     "name": "stdout",
     "output_type": "stream",
     "text": [
      "It was not bad at all\n",
      " Négatif        Positif\n",
      "[0.800338   0.19966201]\n"
     ]
    },
    {
     "name": "stderr",
     "output_type": "stream",
     "text": [
      "/home/robin/anaconda3/lib/python3.6/site-packages/ipykernel_launcher.py:21: DeprecationWarning: Call to deprecated `wv` (Attribute will be removed in 4.0.0, use self instead).\n"
     ]
    }
   ],
   "source": [
    "best=NN\n",
    "sentence =input()\n",
    "print(\" Négatif        Positif\")\n",
    "print(predict(sentence,model,best))"
   ]
  },
  {
   "cell_type": "markdown",
   "metadata": {},
   "source": [
    "# Data opening for test"
   ]
  },
  {
   "cell_type": "markdown",
   "metadata": {},
   "source": [
    "### First dataset"
   ]
  },
  {
   "cell_type": "code",
   "execution_count": 41,
   "metadata": {},
   "outputs": [],
   "source": [
    "def test(word2Vec_model,model):\n",
    "    # This function take an already trained model return the accuracy of the model over an external dataset \n",
    "    y=[]\n",
    "    y_pred=[]\n",
    "    cnt = 1\n",
    "\n",
    "    with open(\"datasets/polarization/rt-polarity-neg.txt\",\"rt\",encoding = \"ISO-8859-1\") as fp:\n",
    "            line = fp.readline()\n",
    "            while line:\n",
    "                y.append(0)\n",
    "                y_pred.append(predict(line,word2Vec_model,model))\n",
    "                line = fp.readline()\n",
    "                cnt += 1\n",
    "                \n",
    "    with open(\"datasets/polarization/rt-polarity-pos.txt\",\"rt\",encoding = \"ISO-8859-1\") as fp:\n",
    "            line = fp.readline()\n",
    "            while line:\n",
    "                y.append(1)\n",
    "                y_pred.append(predict(line,word2Vec_model,model))\n",
    "                line = fp.readline()\n",
    "                cnt += 1\n",
    "                \n",
    "    print(str(cnt)+\" lines tested\")\n",
    "    \n",
    "    y_pred_trans=[]  \n",
    "    \n",
    "    for i in range(len(y_pred)):\n",
    "        try : \n",
    "            if(y_pred[i][0]>y_pred[i][1]):\n",
    "                y_pred_trans.append(0)\n",
    "            else :\n",
    "                y_pred_trans.append(1)\n",
    "        except : \n",
    "            print(\"Bug ligne : \"+str(i))\n",
    "    from sklearn.metrics import confusion_matrix\n",
    "    cf = confusion_matrix(y,y_pred_trans)\n",
    "    acc = (cf[0][0]+cf[1][1])/(cf[0][0]+cf[1][1]+cf[0][1]+cf[1][0])\n",
    "    print(\"Confusion matrix : \\n \"+ str (cf))\n",
    "    print(\"Accuracy : \"+ str(acc))\n",
    "    "
   ]
  },
  {
   "cell_type": "code",
   "execution_count": 42,
   "metadata": {
    "scrolled": false
   },
   "outputs": [
    {
     "name": "stdout",
     "output_type": "stream",
     "text": [
      "10663 lines tested\n",
      "Confusion matrix : \n",
      " [[3643 1688]\n",
      " [1153 4178]]\n",
      "Accuracy : 0.7335396736072032\n"
     ]
    }
   ],
   "source": [
    "test(model,best)"
   ]
  },
  {
   "cell_type": "code",
   "execution_count": 39,
   "metadata": {},
   "outputs": [
    {
     "name": "stdout",
     "output_type": "stream",
     "text": [
      "Epoch 1/30\n",
      "4410/4410 [==============================] - 4s 857us/step - loss: 0.6928 - acc: 0.5204\n",
      "Epoch 2/30\n",
      "4410/4410 [==============================] - 1s 210us/step - loss: 0.6608 - acc: 0.6009\n",
      "Epoch 3/30\n",
      "4410/4410 [==============================] - 1s 205us/step - loss: 0.5886 - acc: 0.6902\n",
      "Epoch 4/30\n",
      "4410/4410 [==============================] - 1s 213us/step - loss: 0.5147 - acc: 0.7628\n",
      "Epoch 5/30\n",
      "4410/4410 [==============================] - 1s 198us/step - loss: 0.4738 - acc: 0.7785\n",
      "Epoch 6/30\n",
      "4410/4410 [==============================] - 1s 195us/step - loss: 0.4495 - acc: 0.7950\n",
      "Epoch 7/30\n",
      "4410/4410 [==============================] - 1s 195us/step - loss: 0.4296 - acc: 0.8000\n",
      "Epoch 8/30\n",
      "4410/4410 [==============================] - 1s 197us/step - loss: 0.4074 - acc: 0.8209\n",
      "Epoch 9/30\n",
      "4410/4410 [==============================] - 1s 197us/step - loss: 0.3888 - acc: 0.8340\n",
      "Epoch 10/30\n",
      "4410/4410 [==============================] - 1s 209us/step - loss: 0.3882 - acc: 0.8317\n",
      "Epoch 11/30\n",
      "4410/4410 [==============================] - 1s 204us/step - loss: 0.3605 - acc: 0.8429\n",
      "Epoch 12/30\n",
      "4410/4410 [==============================] - 1s 207us/step - loss: 0.3547 - acc: 0.8516\n",
      "Epoch 13/30\n",
      "4410/4410 [==============================] - 1s 195us/step - loss: 0.3350 - acc: 0.8524\n",
      "Epoch 14/30\n",
      "4410/4410 [==============================] - 1s 191us/step - loss: 0.3429 - acc: 0.8522\n",
      "Epoch 15/30\n",
      "4410/4410 [==============================] - 1s 220us/step - loss: 0.3211 - acc: 0.8587\n",
      "Epoch 16/30\n",
      "4410/4410 [==============================] - 1s 226us/step - loss: 0.3124 - acc: 0.8721\n",
      "Epoch 17/30\n",
      "4410/4410 [==============================] - 1s 233us/step - loss: 0.3049 - acc: 0.8705\n",
      "Epoch 18/30\n",
      "4410/4410 [==============================] - 1s 212us/step - loss: 0.2951 - acc: 0.8753\n",
      "Epoch 19/30\n",
      "4410/4410 [==============================] - 1s 204us/step - loss: 0.2906 - acc: 0.8805\n",
      "Epoch 20/30\n",
      "4410/4410 [==============================] - 1s 239us/step - loss: 0.2761 - acc: 0.8814\n",
      "Epoch 21/30\n",
      "4410/4410 [==============================] - 1s 207us/step - loss: 0.2724 - acc: 0.8878\n",
      "Epoch 22/30\n",
      "4410/4410 [==============================] - 1s 217us/step - loss: 0.2698 - acc: 0.8873\n",
      "Epoch 23/30\n",
      "4410/4410 [==============================] - 1s 208us/step - loss: 0.2617 - acc: 0.8891\n",
      "Epoch 24/30\n",
      "4410/4410 [==============================] - 1s 205us/step - loss: 0.2644 - acc: 0.8900\n",
      "Epoch 25/30\n",
      "4410/4410 [==============================] - 1s 210us/step - loss: 0.2577 - acc: 0.8959\n",
      "Epoch 26/30\n",
      "4410/4410 [==============================] - 1s 210us/step - loss: 0.2538 - acc: 0.8893\n",
      "Epoch 27/30\n",
      "4410/4410 [==============================] - 1s 212us/step - loss: 0.2370 - acc: 0.9005\n",
      "Epoch 28/30\n",
      "4410/4410 [==============================] - 1s 208us/step - loss: 0.2207 - acc: 0.9063\n",
      "Epoch 29/30\n",
      "4410/4410 [==============================] - 1s 216us/step - loss: 0.2181 - acc: 0.9086\n",
      "Epoch 30/30\n",
      "4410/4410 [==============================] - 1s 213us/step - loss: 0.2460 - acc: 0.9036\n",
      "Neural network 0\n"
     ]
    },
    {
     "name": "stderr",
     "output_type": "stream",
     "text": [
      "/home/robin/.local/lib/python3.6/site-packages/ipykernel_launcher.py:21: DeprecationWarning: Call to deprecated `wv` (Attribute will be removed in 4.0.0, use self instead).\n"
     ]
    },
    {
     "name": "stdout",
     "output_type": "stream",
     "text": [
      "10663 lines tested\n",
      "Confusion matrix : \n",
      " [[3427 1904]\n",
      " [1437 3894]]\n",
      "Accuracy : 0.6866441568186081\n"
     ]
    },
    {
     "name": "stderr",
     "output_type": "stream",
     "text": [
      "/home/robin/.local/lib/python3.6/site-packages/ipykernel_launcher.py:16: UserWarning: Update your `Conv1D` call to the Keras 2 API: `Conv1D(64, kernel_size=10, activation=\"relu\", input_shape=(50, 300), padding=\"causal\")`\n",
      "  app.launch_new_instance()\n"
     ]
    },
    {
     "name": "stdout",
     "output_type": "stream",
     "text": [
      "Epoch 1/30\n",
      "4410/4410 [==============================] - 5s 1ms/step - loss: 0.6986 - acc: 0.5010\n",
      "Epoch 2/30\n",
      "4410/4410 [==============================] - 2s 506us/step - loss: 0.6732 - acc: 0.5685\n",
      "Epoch 3/30\n",
      "4410/4410 [==============================] - 2s 523us/step - loss: 0.5872 - acc: 0.6884\n",
      "Epoch 4/30\n",
      "4410/4410 [==============================] - 2s 528us/step - loss: 0.5293 - acc: 0.7476\n",
      "Epoch 5/30\n",
      "4410/4410 [==============================] - 2s 564us/step - loss: 0.4928 - acc: 0.7803\n",
      "Epoch 6/30\n",
      "4410/4410 [==============================] - 2s 557us/step - loss: 0.4610 - acc: 0.7866\n",
      "Epoch 7/30\n",
      "4410/4410 [==============================] - 2s 533us/step - loss: 0.4613 - acc: 0.7878\n",
      "Epoch 8/30\n",
      "4410/4410 [==============================] - 2s 531us/step - loss: 0.4293 - acc: 0.8066\n",
      "Epoch 9/30\n",
      "4410/4410 [==============================] - 2s 521us/step - loss: 0.4037 - acc: 0.8209\n",
      "Epoch 10/30\n",
      "4410/4410 [==============================] - 2s 517us/step - loss: 0.4018 - acc: 0.8197\n",
      "Epoch 11/30\n",
      "4410/4410 [==============================] - 2s 526us/step - loss: 0.3865 - acc: 0.8281\n",
      "Epoch 12/30\n",
      "4410/4410 [==============================] - 2s 519us/step - loss: 0.3742 - acc: 0.8408\n",
      "Epoch 13/30\n",
      "4410/4410 [==============================] - 2s 523us/step - loss: 0.3734 - acc: 0.8329\n",
      "Epoch 14/30\n",
      "4410/4410 [==============================] - 2s 524us/step - loss: 0.3494 - acc: 0.8472\n",
      "Epoch 15/30\n",
      "4410/4410 [==============================] - 2s 529us/step - loss: 0.3617 - acc: 0.8451\n",
      "Epoch 16/30\n",
      "4410/4410 [==============================] - 2s 535us/step - loss: 0.3296 - acc: 0.8551\n",
      "Epoch 17/30\n",
      "4410/4410 [==============================] - 2s 544us/step - loss: 0.3301 - acc: 0.8549\n",
      "Epoch 18/30\n",
      "4410/4410 [==============================] - 2s 533us/step - loss: 0.3199 - acc: 0.8612\n",
      "Epoch 19/30\n",
      "4410/4410 [==============================] - 2s 538us/step - loss: 0.3125 - acc: 0.8676\n",
      "Epoch 20/30\n",
      "4410/4410 [==============================] - 2s 518us/step - loss: 0.3046 - acc: 0.8678\n",
      "Epoch 21/30\n",
      "4410/4410 [==============================] - 2s 515us/step - loss: 0.3026 - acc: 0.8703\n",
      "Epoch 22/30\n",
      "4410/4410 [==============================] - 2s 536us/step - loss: 0.3026 - acc: 0.8744\n",
      "Epoch 23/30\n",
      "4410/4410 [==============================] - 2s 531us/step - loss: 0.2897 - acc: 0.8789\n",
      "Epoch 24/30\n",
      "4410/4410 [==============================] - 2s 531us/step - loss: 0.2662 - acc: 0.8866\n",
      "Epoch 25/30\n",
      "4410/4410 [==============================] - 2s 558us/step - loss: 0.2727 - acc: 0.8821\n",
      "Epoch 26/30\n",
      "4410/4410 [==============================] - 2s 538us/step - loss: 0.2725 - acc: 0.8882\n",
      "Epoch 27/30\n",
      "4410/4410 [==============================] - 2s 557us/step - loss: 0.2586 - acc: 0.8900\n",
      "Epoch 28/30\n",
      "4410/4410 [==============================] - 3s 596us/step - loss: 0.2588 - acc: 0.8934\n",
      "Epoch 29/30\n",
      "4410/4410 [==============================] - 3s 590us/step - loss: 0.2583 - acc: 0.8909\n",
      "Epoch 30/30\n",
      "4410/4410 [==============================] - 2s 530us/step - loss: 0.2587 - acc: 0.8884\n",
      "Neural network 1\n",
      "10663 lines tested\n",
      "Confusion matrix : \n",
      " [[3916 1415]\n",
      " [1705 3626]]\n",
      "Accuracy : 0.7073719752391672\n",
      "Epoch 1/30\n",
      "4410/4410 [==============================] - 7s 1ms/step - loss: 0.6933 - acc: 0.5069\n",
      "Epoch 2/30\n",
      "4410/4410 [==============================] - 3s 763us/step - loss: 0.6926 - acc: 0.5152\n",
      "Epoch 3/30\n",
      "4410/4410 [==============================] - 3s 765us/step - loss: 0.6598 - acc: 0.5483\n",
      "Epoch 4/30\n",
      "4410/4410 [==============================] - 3s 773us/step - loss: 0.5841 - acc: 0.7358\n",
      "Epoch 5/30\n",
      "4410/4410 [==============================] - 3s 783us/step - loss: 0.5387 - acc: 0.7687\n",
      "Epoch 6/30\n",
      "4410/4410 [==============================] - 4s 796us/step - loss: 0.5048 - acc: 0.7723\n",
      "Epoch 7/30\n",
      "4410/4410 [==============================] - 4s 801us/step - loss: 0.4867 - acc: 0.7871\n",
      "Epoch 8/30\n",
      "4410/4410 [==============================] - 4s 796us/step - loss: 0.4570 - acc: 0.7998\n",
      "Epoch 9/30\n",
      "4410/4410 [==============================] - 4s 799us/step - loss: 0.4303 - acc: 0.8075\n",
      "Epoch 10/30\n",
      "4410/4410 [==============================] - 4s 825us/step - loss: 0.4248 - acc: 0.8084\n",
      "Epoch 11/30\n",
      "4410/4410 [==============================] - 4s 819us/step - loss: 0.4088 - acc: 0.8247\n",
      "Epoch 12/30\n",
      "4410/4410 [==============================] - 4s 843us/step - loss: 0.4049 - acc: 0.8159\n",
      "Epoch 13/30\n",
      "4410/4410 [==============================] - 4s 810us/step - loss: 0.4044 - acc: 0.8227\n",
      "Epoch 14/30\n",
      "4410/4410 [==============================] - 4s 814us/step - loss: 0.3754 - acc: 0.8349\n",
      "Epoch 15/30\n",
      "4410/4410 [==============================] - 5s 1ms/step - loss: 0.3744 - acc: 0.8435\n",
      "Epoch 16/30\n",
      "4410/4410 [==============================] - 7s 2ms/step - loss: 0.3704 - acc: 0.8438\n",
      "Epoch 17/30\n",
      "4410/4410 [==============================] - 5s 1ms/step - loss: 0.3566 - acc: 0.8444\n",
      "Epoch 18/30\n",
      "4410/4410 [==============================] - 4s 865us/step - loss: 0.3521 - acc: 0.8506\n",
      "Epoch 19/30\n",
      "4410/4410 [==============================] - 3s 760us/step - loss: 0.3397 - acc: 0.8469\n",
      "Epoch 20/30\n",
      "4410/4410 [==============================] - 3s 737us/step - loss: 0.3533 - acc: 0.8508\n",
      "Epoch 21/30\n",
      "4410/4410 [==============================] - 3s 779us/step - loss: 0.3453 - acc: 0.8515\n",
      "Epoch 22/30\n",
      "4410/4410 [==============================] - 3s 749us/step - loss: 0.3317 - acc: 0.8567\n",
      "Epoch 23/30\n",
      "4410/4410 [==============================] - 3s 791us/step - loss: 0.3187 - acc: 0.8737\n",
      "Epoch 24/30\n",
      "4410/4410 [==============================] - 5s 1ms/step - loss: 0.3182 - acc: 0.8633\n",
      "Epoch 25/30\n",
      "4410/4410 [==============================] - 4s 993us/step - loss: 0.3136 - acc: 0.8649\n",
      "Epoch 26/30\n",
      "4410/4410 [==============================] - 4s 796us/step - loss: 0.3068 - acc: 0.8726\n",
      "Epoch 27/30\n",
      "4410/4410 [==============================] - 4s 794us/step - loss: 0.3073 - acc: 0.8685\n",
      "Epoch 28/30\n",
      "4410/4410 [==============================] - 4s 795us/step - loss: 0.3186 - acc: 0.8635\n",
      "Epoch 29/30\n",
      "4410/4410 [==============================] - 4s 796us/step - loss: 0.3081 - acc: 0.8649\n",
      "Epoch 30/30\n",
      "4410/4410 [==============================] - 4s 805us/step - loss: 0.3010 - acc: 0.8741\n",
      "Neural network 2\n",
      "10663 lines tested\n",
      "Confusion matrix : \n",
      " [[3120 2211]\n",
      " [ 894 4437]]\n",
      "Accuracy : 0.7087788407428249\n",
      "Epoch 1/30\n",
      "4410/4410 [==============================] - 7s 2ms/step - loss: 0.6923 - acc: 0.5076\n",
      "Epoch 2/30\n",
      "4410/4410 [==============================] - 4s 806us/step - loss: 0.6747 - acc: 0.5422\n",
      "Epoch 3/30\n",
      "4410/4410 [==============================] - 4s 812us/step - loss: 0.5927 - acc: 0.7200\n",
      "Epoch 4/30\n",
      "4410/4410 [==============================] - 4s 828us/step - loss: 0.5463 - acc: 0.7481\n",
      "Epoch 5/30\n",
      "4410/4410 [==============================] - 4s 825us/step - loss: 0.5147 - acc: 0.7644\n",
      "Epoch 6/30\n",
      "4410/4410 [==============================] - 4s 829us/step - loss: 0.4879 - acc: 0.7844\n",
      "Epoch 7/30\n",
      "4410/4410 [==============================] - 4s 835us/step - loss: 0.4661 - acc: 0.7898\n",
      "Epoch 8/30\n",
      "4410/4410 [==============================] - 4s 831us/step - loss: 0.4349 - acc: 0.7959\n",
      "Epoch 9/30\n",
      "4410/4410 [==============================] - 4s 820us/step - loss: 0.4212 - acc: 0.8147\n",
      "Epoch 10/30\n",
      "4410/4410 [==============================] - 4s 814us/step - loss: 0.4159 - acc: 0.8122\n",
      "Epoch 11/30\n",
      "4410/4410 [==============================] - 4s 824us/step - loss: 0.3985 - acc: 0.8236\n",
      "Epoch 12/30\n",
      "4410/4410 [==============================] - 4s 821us/step - loss: 0.3891 - acc: 0.8322\n",
      "Epoch 13/30\n",
      "4410/4410 [==============================] - 4s 815us/step - loss: 0.3739 - acc: 0.8333\n",
      "Epoch 14/30\n",
      "4410/4410 [==============================] - 4s 821us/step - loss: 0.3767 - acc: 0.8358\n",
      "Epoch 15/30\n",
      "4410/4410 [==============================] - 4s 850us/step - loss: 0.3518 - acc: 0.8481\n",
      "Epoch 16/30\n",
      "4410/4410 [==============================] - 4s 825us/step - loss: 0.3509 - acc: 0.8506\n",
      "Epoch 17/30\n",
      "4410/4410 [==============================] - 4s 826us/step - loss: 0.3433 - acc: 0.8503\n",
      "Epoch 18/30\n",
      "4410/4410 [==============================] - 4s 986us/step - loss: 0.3341 - acc: 0.8506\n",
      "Epoch 19/30\n",
      "4410/4410 [==============================] - 4s 979us/step - loss: 0.3108 - acc: 0.8619\n",
      "Epoch 20/30\n",
      "4410/4410 [==============================] - 4s 818us/step - loss: 0.3310 - acc: 0.8590\n",
      "Epoch 21/30\n",
      "4410/4410 [==============================] - 3s 786us/step - loss: 0.3312 - acc: 0.8594\n",
      "Epoch 22/30\n",
      "4410/4410 [==============================] - 3s 790us/step - loss: 0.3202 - acc: 0.8696\n",
      "Epoch 23/30\n",
      "4410/4410 [==============================] - 4s 829us/step - loss: 0.3252 - acc: 0.8617\n",
      "Epoch 24/30\n",
      "4410/4410 [==============================] - 4s 880us/step - loss: 0.3136 - acc: 0.8646\n",
      "Epoch 25/30\n",
      "4410/4410 [==============================] - 4s 878us/step - loss: 0.2948 - acc: 0.8785\n",
      "Epoch 26/30\n",
      "4410/4410 [==============================] - 4s 821us/step - loss: 0.3009 - acc: 0.8683\n",
      "Epoch 27/30\n",
      "4410/4410 [==============================] - 4s 923us/step - loss: 0.2930 - acc: 0.8803\n",
      "Epoch 28/30\n",
      "4410/4410 [==============================] - 4s 883us/step - loss: 0.2848 - acc: 0.8787\n",
      "Epoch 29/30\n",
      "4410/4410 [==============================] - 4s 864us/step - loss: 0.2810 - acc: 0.8819\n",
      "Epoch 30/30\n",
      "4410/4410 [==============================] - 4s 860us/step - loss: 0.2953 - acc: 0.8816\n",
      "Neural network 3\n",
      "10663 lines tested\n",
      "Confusion matrix : \n",
      " [[3567 1764]\n",
      " [1211 4120]]\n",
      "Accuracy : 0.7209716751078596\n",
      "Epoch 1/30\n",
      "4410/4410 [==============================] - 7s 2ms/step - loss: 0.6933 - acc: 0.5050\n",
      "Epoch 2/30\n",
      "4410/4410 [==============================] - 4s 825us/step - loss: 0.6929 - acc: 0.5179\n",
      "Epoch 3/30\n",
      "4410/4410 [==============================] - 4s 811us/step - loss: 0.6824 - acc: 0.5501\n",
      "Epoch 4/30\n",
      "4410/4410 [==============================] - 4s 829us/step - loss: 0.5921 - acc: 0.7147\n",
      "Epoch 5/30\n",
      "4410/4410 [==============================] - 4s 849us/step - loss: 0.5261 - acc: 0.7633\n",
      "Epoch 6/30\n",
      "4410/4410 [==============================] - 4s 834us/step - loss: 0.4870 - acc: 0.7875\n",
      "Epoch 7/30\n",
      "4410/4410 [==============================] - 4s 846us/step - loss: 0.4600 - acc: 0.8002\n",
      "Epoch 8/30\n",
      "4410/4410 [==============================] - 4s 832us/step - loss: 0.4421 - acc: 0.8002\n",
      "Epoch 9/30\n",
      "4410/4410 [==============================] - 4s 826us/step - loss: 0.4254 - acc: 0.8107\n",
      "Epoch 10/30\n",
      "4410/4410 [==============================] - 4s 847us/step - loss: 0.4157 - acc: 0.8231\n",
      "Epoch 11/30\n",
      "4410/4410 [==============================] - 4s 873us/step - loss: 0.3863 - acc: 0.8195\n",
      "Epoch 12/30\n",
      "4410/4410 [==============================] - 4s 908us/step - loss: 0.3884 - acc: 0.8306\n",
      "Epoch 13/30\n",
      "4410/4410 [==============================] - 5s 1ms/step - loss: 0.3843 - acc: 0.8331\n",
      "Epoch 14/30\n",
      "4410/4410 [==============================] - 4s 894us/step - loss: 0.3667 - acc: 0.8404\n",
      "Epoch 15/30\n",
      "4410/4410 [==============================] - 4s 806us/step - loss: 0.3691 - acc: 0.8408\n",
      "Epoch 16/30\n",
      "4410/4410 [==============================] - 4s 827us/step - loss: 0.3538 - acc: 0.8467\n",
      "Epoch 17/30\n",
      "4410/4410 [==============================] - 4s 845us/step - loss: 0.3419 - acc: 0.8522\n",
      "Epoch 18/30\n",
      "4410/4410 [==============================] - 4s 839us/step - loss: 0.3367 - acc: 0.8587\n",
      "Epoch 19/30\n",
      "4410/4410 [==============================] - 4s 860us/step - loss: 0.3409 - acc: 0.8567\n",
      "Epoch 20/30\n",
      "4410/4410 [==============================] - 4s 857us/step - loss: 0.3128 - acc: 0.8683\n",
      "Epoch 21/30\n",
      "4410/4410 [==============================] - 4s 862us/step - loss: 0.3200 - acc: 0.8653\n",
      "Epoch 22/30\n",
      "4410/4410 [==============================] - 5s 1ms/step - loss: 0.3196 - acc: 0.8669\n",
      "Epoch 23/30\n",
      "4410/4410 [==============================] - 5s 1ms/step - loss: 0.3053 - acc: 0.8739\n",
      "Epoch 24/30\n",
      "4410/4410 [==============================] - 4s 1ms/step - loss: 0.3140 - acc: 0.8755\n",
      "Epoch 25/30\n",
      "4410/4410 [==============================] - 4s 1ms/step - loss: 0.3034 - acc: 0.8748\n",
      "Epoch 26/30\n",
      "4410/4410 [==============================] - 4s 1ms/step - loss: 0.3021 - acc: 0.8719\n",
      "Epoch 27/30\n",
      "4410/4410 [==============================] - 5s 1ms/step - loss: 0.2876 - acc: 0.8782\n",
      "Epoch 28/30\n",
      "4410/4410 [==============================] - 4s 921us/step - loss: 0.2993 - acc: 0.8812\n",
      "Epoch 29/30\n",
      "4410/4410 [==============================] - 4s 880us/step - loss: 0.2770 - acc: 0.8878\n",
      "Epoch 30/30\n",
      "4410/4410 [==============================] - 4s 905us/step - loss: 0.2881 - acc: 0.8800\n",
      "Neural network 4\n",
      "10663 lines tested\n",
      "Confusion matrix : \n",
      " [[4029 1302]\n",
      " [1597 3734]]\n",
      "Accuracy : 0.7280997936597261\n",
      "Epoch 1/30\n",
      "4410/4410 [==============================] - 8s 2ms/step - loss: 0.6933 - acc: 0.5029\n",
      "Epoch 2/30\n",
      "4410/4410 [==============================] - 5s 1ms/step - loss: 0.6788 - acc: 0.5404\n",
      "Epoch 3/30\n",
      "4410/4410 [==============================] - 5s 1ms/step - loss: 0.5743 - acc: 0.7295\n",
      "Epoch 4/30\n",
      "4410/4410 [==============================] - 5s 1ms/step - loss: 0.5107 - acc: 0.7692\n",
      "Epoch 5/30\n",
      "4410/4410 [==============================] - 5s 1ms/step - loss: 0.4685 - acc: 0.7887\n",
      "Epoch 6/30\n",
      "4410/4410 [==============================] - 5s 1ms/step - loss: 0.4467 - acc: 0.7984\n",
      "Epoch 7/30\n",
      "4410/4410 [==============================] - 5s 1ms/step - loss: 0.4319 - acc: 0.8023\n",
      "Epoch 8/30\n",
      "4410/4410 [==============================] - 5s 1ms/step - loss: 0.4149 - acc: 0.8143\n",
      "Epoch 9/30\n",
      "4410/4410 [==============================] - 5s 1ms/step - loss: 0.4063 - acc: 0.8143\n",
      "Epoch 10/30\n",
      "4410/4410 [==============================] - 5s 1ms/step - loss: 0.3896 - acc: 0.8204\n",
      "Epoch 11/30\n",
      "4410/4410 [==============================] - 5s 1ms/step - loss: 0.3787 - acc: 0.8351\n",
      "Epoch 12/30\n",
      "4410/4410 [==============================] - 5s 1ms/step - loss: 0.3764 - acc: 0.8324\n",
      "Epoch 13/30\n",
      "4410/4410 [==============================] - 5s 1ms/step - loss: 0.3475 - acc: 0.8506\n",
      "Epoch 14/30\n",
      "4410/4410 [==============================] - 5s 1ms/step - loss: 0.3760 - acc: 0.8444\n",
      "Epoch 15/30\n",
      "4410/4410 [==============================] - 5s 1ms/step - loss: 0.3448 - acc: 0.8420\n",
      "Epoch 16/30\n",
      "4410/4410 [==============================] - 5s 1ms/step - loss: 0.3439 - acc: 0.8481\n",
      "Epoch 17/30\n",
      "4410/4410 [==============================] - 5s 1ms/step - loss: 0.3368 - acc: 0.8594\n",
      "Epoch 18/30\n",
      "4410/4410 [==============================] - 5s 1ms/step - loss: 0.3334 - acc: 0.8603\n",
      "Epoch 19/30\n",
      "4410/4410 [==============================] - 5s 1ms/step - loss: 0.3289 - acc: 0.8655\n",
      "Epoch 20/30\n",
      "4410/4410 [==============================] - 5s 1ms/step - loss: 0.3152 - acc: 0.8615\n",
      "Epoch 21/30\n",
      "4410/4410 [==============================] - 5s 1ms/step - loss: 0.3071 - acc: 0.8732\n",
      "Epoch 22/30\n",
      "4410/4410 [==============================] - 5s 1ms/step - loss: 0.3011 - acc: 0.8741\n",
      "Epoch 23/30\n",
      "4410/4410 [==============================] - 5s 1ms/step - loss: 0.3047 - acc: 0.8712\n",
      "Epoch 24/30\n",
      "4410/4410 [==============================] - 5s 1ms/step - loss: 0.2880 - acc: 0.8782\n",
      "Epoch 25/30\n",
      "4410/4410 [==============================] - 5s 1ms/step - loss: 0.2970 - acc: 0.8705\n",
      "Epoch 26/30\n",
      "4410/4410 [==============================] - 5s 1ms/step - loss: 0.2975 - acc: 0.8766\n",
      "Epoch 27/30\n",
      "4410/4410 [==============================] - 5s 1ms/step - loss: 0.2896 - acc: 0.8800\n",
      "Epoch 28/30\n",
      "4410/4410 [==============================] - 5s 1ms/step - loss: 0.2820 - acc: 0.8834\n",
      "Epoch 29/30\n",
      "4410/4410 [==============================] - 5s 1ms/step - loss: 0.2691 - acc: 0.8866\n",
      "Epoch 30/30\n",
      "4410/4410 [==============================] - 5s 1ms/step - loss: 0.2673 - acc: 0.8896\n",
      "Neural network 5\n",
      "10663 lines tested\n",
      "Confusion matrix : \n",
      " [[3910 1421]\n",
      " [1547 3784]]\n",
      "Accuracy : 0.7216282123429\n",
      "Epoch 1/30\n",
      "4410/4410 [==============================] - 11s 2ms/step - loss: 0.6935 - acc: 0.5120\n",
      "Epoch 2/30\n",
      "4410/4410 [==============================] - 7s 2ms/step - loss: 0.6934 - acc: 0.5009\n",
      "Epoch 3/30\n",
      "4410/4410 [==============================] - 7s 1ms/step - loss: 0.6756 - acc: 0.5517\n",
      "Epoch 4/30\n",
      "4410/4410 [==============================] - 7s 1ms/step - loss: 0.5573 - acc: 0.7272\n",
      "Epoch 5/30\n",
      "4410/4410 [==============================] - 6s 1ms/step - loss: 0.4959 - acc: 0.7655\n",
      "Epoch 6/30\n",
      "4410/4410 [==============================] - 7s 1ms/step - loss: 0.4629 - acc: 0.7916\n",
      "Epoch 7/30\n",
      "4410/4410 [==============================] - 7s 2ms/step - loss: 0.4513 - acc: 0.8011\n",
      "Epoch 8/30\n",
      "4410/4410 [==============================] - 7s 1ms/step - loss: 0.4324 - acc: 0.8095\n",
      "Epoch 9/30\n",
      "4410/4410 [==============================] - 7s 1ms/step - loss: 0.4271 - acc: 0.8100\n",
      "Epoch 10/30\n",
      "4410/4410 [==============================] - 6s 1ms/step - loss: 0.4039 - acc: 0.8265\n",
      "Epoch 11/30\n",
      "4410/4410 [==============================] - 6s 1ms/step - loss: 0.3864 - acc: 0.8297\n",
      "Epoch 12/30\n",
      "4410/4410 [==============================] - 7s 1ms/step - loss: 0.3816 - acc: 0.8311\n",
      "Epoch 13/30\n",
      "4410/4410 [==============================] - 6s 1ms/step - loss: 0.3687 - acc: 0.8397\n",
      "Epoch 14/30\n",
      "4410/4410 [==============================] - 7s 1ms/step - loss: 0.3626 - acc: 0.8401\n",
      "Epoch 15/30\n",
      "4410/4410 [==============================] - 7s 1ms/step - loss: 0.3466 - acc: 0.8469\n",
      "Epoch 16/30\n",
      "4410/4410 [==============================] - 7s 1ms/step - loss: 0.3440 - acc: 0.8567\n",
      "Epoch 17/30\n",
      "4410/4410 [==============================] - 7s 1ms/step - loss: 0.3325 - acc: 0.8615\n",
      "Epoch 18/30\n",
      "4410/4410 [==============================] - 7s 2ms/step - loss: 0.3205 - acc: 0.8596\n",
      "Epoch 19/30\n",
      "4410/4410 [==============================] - 8s 2ms/step - loss: 0.3220 - acc: 0.8587\n",
      "Epoch 20/30\n",
      "4410/4410 [==============================] - 8s 2ms/step - loss: 0.3162 - acc: 0.8703\n",
      "Epoch 21/30\n",
      "4410/4410 [==============================] - 7s 2ms/step - loss: 0.3256 - acc: 0.8585\n",
      "Epoch 22/30\n",
      "4410/4410 [==============================] - 7s 2ms/step - loss: 0.3223 - acc: 0.8651\n",
      "Epoch 23/30\n",
      "4410/4410 [==============================] - 7s 2ms/step - loss: 0.2958 - acc: 0.8726\n",
      "Epoch 24/30\n",
      "4410/4410 [==============================] - 10s 2ms/step - loss: 0.3121 - acc: 0.8689\n",
      "Epoch 25/30\n",
      "4410/4410 [==============================] - 8s 2ms/step - loss: 0.2849 - acc: 0.8785\n",
      "Epoch 26/30\n",
      "4410/4410 [==============================] - 7s 2ms/step - loss: 0.2868 - acc: 0.8810\n",
      "Epoch 27/30\n",
      "4410/4410 [==============================] - 7s 2ms/step - loss: 0.2870 - acc: 0.8794\n",
      "Epoch 28/30\n",
      "4410/4410 [==============================] - 7s 1ms/step - loss: 0.2807 - acc: 0.8805\n",
      "Epoch 29/30\n",
      "4410/4410 [==============================] - 7s 1ms/step - loss: 0.2826 - acc: 0.8868\n",
      "Epoch 30/30\n",
      "4410/4410 [==============================] - 7s 2ms/step - loss: 0.2678 - acc: 0.8902\n",
      "Neural network 6\n",
      "10663 lines tested\n",
      "Confusion matrix : \n",
      " [[3266 2065]\n",
      " [1127 4204]]\n",
      "Accuracy : 0.7006190208216094\n"
     ]
    }
   ],
   "source": [
    "models = []\n",
    "for i in range(len(functions)) :\n",
    "    models.append(functions[i]())\n",
    "    models[i].fit(np.array(sentences_v),to_categorical(y),epochs=30,batch_size=100)\n",
    "    print(\"Neural network \"+str(i))\n",
    "    test(model,models[i])"
   ]
  },
  {
   "cell_type": "markdown",
   "metadata": {
    "collapsed": true
   },
   "source": [
    "### Second dataset"
   ]
  },
  {
   "cell_type": "code",
   "execution_count": 44,
   "metadata": {
    "scrolled": true
   },
   "outputs": [],
   "source": [
    "import glob\n",
    "path = 'datasets/polarization/txt_sentoken/pos/*.txt'   \n",
    "files=glob.glob(path)   \n",
    "sentences_test = []\n",
    "y_test = []\n",
    "for file in files:\n",
    "    f=open(file, 'r')  \n",
    "    sentences_test.append(f.read())\n",
    "    y_test.append(1)\n",
    "    f.close()\n",
    "    \n",
    "path = 'datasets/polarization/txt_sentoken/neg/*.txt'   \n",
    "files=glob.glob(path)\n",
    "for file in files:\n",
    "    f=open(file, 'r')  \n",
    "    sentences_test.append(f.read())\n",
    "    y_test.append(0)\n",
    "    f.close()"
   ]
  },
  {
   "cell_type": "code",
   "execution_count": 45,
   "metadata": {},
   "outputs": [],
   "source": [
    "y_pred = []\n",
    "for s in sentences_test:\n",
    "    y_pred.append(predict(s,model,best))"
   ]
  },
  {
   "cell_type": "code",
   "execution_count": 46,
   "metadata": {
    "scrolled": true
   },
   "outputs": [
    {
     "name": "stdout",
     "output_type": "stream",
     "text": [
      "Matrice de confusion : \n",
      " [[769 231]\n",
      " [277 723]]\n",
      "Accuracy : 0.746\n"
     ]
    }
   ],
   "source": [
    "from sklearn.metrics import confusion_matrix\n",
    "y_pred_trans=[]\n",
    "i=0\n",
    "for y_tmp in y_pred:\n",
    "    i+=1\n",
    "    if(y_tmp[0] > y_tmp[1]):\n",
    "        y_pred_trans.append(0)\n",
    "    else :\n",
    "        y_pred_trans.append(1)\n",
    "        \n",
    "cf = confusion_matrix(y_test,y_pred_trans)\n",
    "acc = (cf[0][0]+cf[1][1])/(cf[0][0]+cf[1][1]+cf[0][1]+cf[1][0])\n",
    "print(\"Matrice de confusion : \\n \"+ str (cf))\n",
    "print(\"Accuracy : \"+ str(acc))"
   ]
  }
 ],
 "metadata": {
  "celltoolbar": "Raw Cell Format",
  "kernelspec": {
   "display_name": "Python 3",
   "language": "python",
   "name": "python3"
  },
  "language_info": {
   "codemirror_mode": {
    "name": "ipython",
    "version": 3
   },
   "file_extension": ".py",
   "mimetype": "text/x-python",
   "name": "python",
   "nbconvert_exporter": "python",
   "pygments_lexer": "ipython3",
   "version": "3.6.5"
  }
 },
 "nbformat": 4,
 "nbformat_minor": 2
}
